{
 "cells": [
  {
   "cell_type": "code",
   "execution_count": 1,
   "metadata": {},
   "outputs": [],
   "source": [
    "import json, nltk, re\n",
    "import pandas as pd\n",
    "import numpy as np\n",
    "from gensim.models import KeyedVectors\n",
    "from gensim.models import Word2Vec\n",
    "import gensim.downloader as api\n",
    "import nlpaug.augmenter.char as nac\n",
    "from tqdm import tqdm"
   ]
  },
  {
   "cell_type": "code",
   "execution_count": 2,
   "metadata": {},
   "outputs": [],
   "source": [
    "df = pd.read_csv('./clean_dataset.csv')\n",
    "df['code'] = df['code'].apply(lambda code: code.replace(\" \", \"\"))"
   ]
  },
  {
   "cell_type": "code",
   "execution_count": 13,
   "metadata": {},
   "outputs": [],
   "source": [
    "def word_augmentation(df, n):\n",
    "    aug = nac.KeyboardAug()\n",
    "    aug_df = pd.DataFrame(columns=['input','target','code'])\n",
    "    \n",
    "    for i in tqdm(range(len(df))):\n",
    "        words = df.iloc[i]\n",
    "        for j in range(n):\n",
    "            augmented_data = aug.augment(words[\"input\"])\n",
    "            aug_df = aug_df.append({ \"input\": augmented_data, \"target\": words[\"target\"], \"code\": words[\"code\"] }, ignore_index=True)\n",
    "    \n",
    "    return df.append(aug_df)"
   ]
  },
  {
   "cell_type": "code",
   "execution_count": 14,
   "metadata": {},
   "outputs": [
    {
     "name": "stderr",
     "output_type": "stream",
     "text": [
      "\r",
      "  0%|          | 0/360 [00:00<?, ?it/s]"
     ]
    },
    {
     "name": "stdout",
     "output_type": "stream",
     "text": [
      "360\n"
     ]
    },
    {
     "name": "stderr",
     "output_type": "stream",
     "text": [
      "100%|██████████| 360/360 [02:00<00:00,  2.99it/s]"
     ]
    },
    {
     "name": "stdout",
     "output_type": "stream",
     "text": [
      "1440\n"
     ]
    },
    {
     "name": "stderr",
     "output_type": "stream",
     "text": [
      "\n"
     ]
    }
   ],
   "source": [
    "# Data augmentation\n",
    "print(len(df))\n",
    "df = word_augmentation(df, n=3)\n",
    "print(len(df))"
   ]
  },
  {
   "cell_type": "code",
   "execution_count": 15,
   "metadata": {},
   "outputs": [
    {
     "name": "stderr",
     "output_type": "stream",
     "text": [
      "1440it [00:00, 3426.14it/s]\n"
     ]
    }
   ],
   "source": [
    "sentences = []\n",
    "for index, row in tqdm(df.iterrows()):\n",
    "    words = nltk.word_tokenize(row['input']) + nltk.word_tokenize(row['target']) + nltk.word_tokenize(row['code'])\n",
    "    words = [re.sub(\"[^A-Za-z']+\", ' ', str(word)).lower() for word in words]\n",
    "    sentences.append(words)"
   ]
  },
  {
   "cell_type": "markdown",
   "metadata": {},
   "source": [
    "### Create a Word2Vec vector space"
   ]
  },
  {
   "cell_type": "code",
   "execution_count": 16,
   "metadata": {},
   "outputs": [],
   "source": [
    "# define the model\n",
    "w2v = Word2Vec(size = 300, window=5, min_count = 1, workers = 2)\n",
    "w2v.build_vocab(sentences)\n",
    "\n",
    "# summarize the loaded model\n",
    "# print(w2v)\n",
    "\n",
    "# summarize vocabulary\n",
    "# words = list(model.wv.vocab)\n",
    "# print(words)\n",
    "\n",
    "# save model\n",
    "# w2v.save('w2v.bin')"
   ]
  },
  {
   "cell_type": "code",
   "execution_count": 17,
   "metadata": {},
   "outputs": [],
   "source": [
    "w2v.intersect_word2vec_format(\n",
    "    './GoogleNews-vectors-negative300.bin.gz',\n",
    "    lockf=1.0,\n",
    "    binary=True)"
   ]
  },
  {
   "cell_type": "code",
   "execution_count": 18,
   "metadata": {},
   "outputs": [
    {
     "data": {
      "text/plain": [
       "(1578927, 1842000)"
      ]
     },
     "execution_count": 18,
     "metadata": {},
     "output_type": "execute_result"
    }
   ],
   "source": [
    "# train the model on the dataset\n",
    "w2v.train(sentences,\n",
    "          total_examples=w2v.corpus_count,\n",
    "          epochs=300,\n",
    "          report_delay=1)"
   ]
  },
  {
   "cell_type": "code",
   "execution_count": 19,
   "metadata": {},
   "outputs": [
    {
     "name": "stderr",
     "output_type": "stream",
     "text": [
      "/home/achraf/.local/lib/python3.6/site-packages/ipykernel_launcher.py:1: DeprecationWarning: Call to deprecated `most_similar` (Method will be removed in 4.0.0, use self.wv.most_similar() instead).\n",
      "  \"\"\"Entry point for launching an IPython kernel.\n"
     ]
    },
    {
     "data": {
      "text/plain": [
       "[('frbes', 0.9355872869491577),\n",
       " ('bgest', 0.9262894988059998),\n",
       " ('f ', 0.8307290077209473),\n",
       " ('brect', 0.8271465301513672),\n",
       " ('brezt', 0.8172892332077026),\n",
       " ('nrest', 0.7881510853767395),\n",
       " ('brext', 0.7849330902099609),\n",
       " ('bres ', 0.7788300514221191),\n",
       " ('brwst', 0.7677716016769409),\n",
       " ('francw', 0.755815863609314)]"
      ]
     },
     "execution_count": 19,
     "metadata": {},
     "output_type": "execute_result"
    }
   ],
   "source": [
    "w2v.most_similar(positive=[\"brest\"])"
   ]
  },
  {
   "cell_type": "code",
   "execution_count": 21,
   "metadata": {},
   "outputs": [
    {
     "data": {
      "text/plain": [
       "(7, 200)"
      ]
     },
     "execution_count": 21,
     "metadata": {},
     "output_type": "execute_result"
    }
   ],
   "source": [
    "# new_sentences = [[\"petersbourg\",\"stpetersburg\",\"petersburg\"]]\n",
    "new_sentences = [[\"petersbourg\"]]\n",
    "w2v.build_vocab(new_sentences, update=True)\n",
    "w2v.train(new_sentences, total_examples=w2v.corpus_count, epochs=200)"
   ]
  },
  {
   "cell_type": "code",
   "execution_count": 22,
   "metadata": {},
   "outputs": [
    {
     "name": "stderr",
     "output_type": "stream",
     "text": [
      "/home/achraf/.local/lib/python3.6/site-packages/ipykernel_launcher.py:1: DeprecationWarning: Call to deprecated `most_similar` (Method will be removed in 4.0.0, use self.wv.most_similar() instead).\n",
      "  \"\"\"Entry point for launching an IPython kernel.\n"
     ]
    },
    {
     "data": {
      "text/plain": [
       "[('rout', 0.08573538064956665),\n",
       " ('liver ooo', 0.07342198491096497),\n",
       " ('leter', 0.07035710662603378),\n",
       " ('lkgerpool', 0.0669819787144661),\n",
       " ('liverpool', 0.059646494686603546),\n",
       " ('grpir', 0.05801961570978165),\n",
       " (' ilhury', 0.05700842663645744),\n",
       " ('police', 0.05463198944926262),\n",
       " ('poloce', 0.05395359918475151),\n",
       " (' ilvury', 0.053714342415332794)]"
      ]
     },
     "execution_count": 22,
     "metadata": {},
     "output_type": "execute_result"
    }
   ],
   "source": [
    "w2v.most_similar(positive=[\"petersbourg\"])"
   ]
  },
  {
   "cell_type": "code",
   "execution_count": 27,
   "metadata": {},
   "outputs": [
    {
     "data": {
      "text/html": [
       "<div>\n",
       "<style scoped>\n",
       "    .dataframe tbody tr th:only-of-type {\n",
       "        vertical-align: middle;\n",
       "    }\n",
       "\n",
       "    .dataframe tbody tr th {\n",
       "        vertical-align: top;\n",
       "    }\n",
       "\n",
       "    .dataframe thead th {\n",
       "        text-align: right;\n",
       "    }\n",
       "</style>\n",
       "<table border=\"1\" class=\"dataframe\">\n",
       "  <thead>\n",
       "    <tr style=\"text-align: right;\">\n",
       "      <th></th>\n",
       "      <th>input</th>\n",
       "      <th>target</th>\n",
       "      <th>code</th>\n",
       "    </tr>\n",
       "  </thead>\n",
       "  <tbody>\n",
       "    <tr>\n",
       "      <th>0</th>\n",
       "      <td>BREST</td>\n",
       "      <td>BREST</td>\n",
       "      <td>FRBES</td>\n",
       "    </tr>\n",
       "    <tr>\n",
       "      <th>1</th>\n",
       "      <td>RADE DE BREST</td>\n",
       "      <td>BREST</td>\n",
       "      <td>FRBES</td>\n",
       "    </tr>\n",
       "    <tr>\n",
       "      <th>2</th>\n",
       "      <td>LA TURBALLE</td>\n",
       "      <td>LA TURBALLE</td>\n",
       "      <td>FRTBE</td>\n",
       "    </tr>\n",
       "    <tr>\n",
       "      <th>3</th>\n",
       "      <td>DOUARNENEZ</td>\n",
       "      <td>DOUARNENEZ</td>\n",
       "      <td>FRDRZ</td>\n",
       "    </tr>\n",
       "    <tr>\n",
       "      <th>4</th>\n",
       "      <td>FELIXSTOWE</td>\n",
       "      <td>FELIXSTOWE</td>\n",
       "      <td>GBFXT</td>\n",
       "    </tr>\n",
       "    <tr>\n",
       "      <th>5</th>\n",
       "      <td>CONCARNEAU</td>\n",
       "      <td>CONCARNEAU</td>\n",
       "      <td>FRCOC</td>\n",
       "    </tr>\n",
       "    <tr>\n",
       "      <th>6</th>\n",
       "      <td>PORT SAID</td>\n",
       "      <td>PORT SAID</td>\n",
       "      <td>EGPSD</td>\n",
       "    </tr>\n",
       "    <tr>\n",
       "      <th>7</th>\n",
       "      <td>LE GUILVINEC</td>\n",
       "      <td>GUILVINEC</td>\n",
       "      <td>FRGVC</td>\n",
       "    </tr>\n",
       "    <tr>\n",
       "      <th>8</th>\n",
       "      <td>TANGIER</td>\n",
       "      <td>TANGIER</td>\n",
       "      <td>MATNG</td>\n",
       "    </tr>\n",
       "    <tr>\n",
       "      <th>9</th>\n",
       "      <td>SANTANDER</td>\n",
       "      <td>SANTANDER</td>\n",
       "      <td>ESSDR</td>\n",
       "    </tr>\n",
       "  </tbody>\n",
       "</table>\n",
       "</div>"
      ],
      "text/plain": [
       "           input       target   code\n",
       "0          BREST        BREST  FRBES\n",
       "1  RADE DE BREST        BREST  FRBES\n",
       "2    LA TURBALLE  LA TURBALLE  FRTBE\n",
       "3     DOUARNENEZ   DOUARNENEZ  FRDRZ\n",
       "4     FELIXSTOWE   FELIXSTOWE  GBFXT\n",
       "5     CONCARNEAU   CONCARNEAU  FRCOC\n",
       "6      PORT SAID    PORT SAID  EGPSD\n",
       "7   LE GUILVINEC    GUILVINEC  FRGVC\n",
       "8        TANGIER      TANGIER  MATNG\n",
       "9      SANTANDER    SANTANDER  ESSDR"
      ]
     },
     "execution_count": 27,
     "metadata": {},
     "output_type": "execute_result"
    }
   ],
   "source": [
    "df.iloc[:10]"
   ]
  }
 ],
 "metadata": {
  "kernelspec": {
   "display_name": "pytorch",
   "language": "python",
   "name": "pytorch"
  },
  "language_info": {
   "codemirror_mode": {
    "name": "ipython",
    "version": 3
   },
   "file_extension": ".py",
   "mimetype": "text/x-python",
   "name": "python",
   "nbconvert_exporter": "python",
   "pygments_lexer": "ipython3",
   "version": "3.6.10"
  }
 },
 "nbformat": 4,
 "nbformat_minor": 2
}
