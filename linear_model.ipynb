{
 "cells": [
  {
   "cell_type": "markdown",
   "metadata": {},
   "source": [
    "#### TODOs\n",
    "\n",
    "- [x] Compute accuracy and total loss in training loop \n",
    "- [x] At the end of training, plot losses and accuracies to pick a stopping epoch"
   ]
  },
  {
   "cell_type": "code",
   "execution_count": 64,
   "metadata": {},
   "outputs": [],
   "source": [
    "import string \n",
    "import numpy as np\n",
    "from data import get_train_test_split\n",
    "from tqdm import tqdm \n",
    "import seaborn as sns\n",
    "import matplotlib.pyplot as plt"
   ]
  },
  {
   "cell_type": "code",
   "execution_count": 86,
   "metadata": {},
   "outputs": [],
   "source": [
    "class Linear:\n",
    "    \"\"\"\n",
    "    Linear model\n",
    "    Args:\n",
    "        classes (list): list of possible labels\n",
    "        max_len (int): maximum length of input sequence (destination)\n",
    "        vocab_size (int): number of characters in the vocabulary\n",
    "    \"\"\"\n",
    "    def __init__(self, classes, max_len):\n",
    "        self.classes = classes\n",
    "        self.vocab = self.build_vocab()\n",
    "        self.max_len = max_len\n",
    "        \n",
    "        self.w = np.ones((len(classes), max_len * len(self.vocab)))\n",
    "        self.b = np.ones((len(classes), 1))\n",
    "        \n",
    "    \n",
    "    def build_vocab(self):\n",
    "        all_char = string.printable\n",
    "        vocab = { \"\": 0, \" \": 1}\n",
    "        idx = 2\n",
    "        for c in all_char:\n",
    "            vocab[c] = idx\n",
    "            idx += 1\n",
    "        return vocab\n",
    "    \n",
    "    def encode(self, text):\n",
    "        \"\"\"\n",
    "        Return a one hot encoded vector along one dimension (all characters are concatenated)\n",
    "        \"\"\"\n",
    "        text = text.lower()\n",
    "        token_idx = [self.vocab[c] for c in text]\n",
    "        # insert padding for fixed length inputs\n",
    "        token_idx += [0] * (self.max_len-len(token_idx))\n",
    "        \n",
    "        # convert into one hot encoded vector and concatenate along one dimension\n",
    "        token = 0\n",
    "        for i in token_idx:\n",
    "            one_hot_encoded_vector = np.zeros((len(self.vocab), 1))\n",
    "            one_hot_encoded_vector[i][0] = 1\n",
    "            if type(token) == int: token = one_hot_encoded_vector \n",
    "            else: token = np.concatenate((token, one_hot_encoded_vector), axis=0)\n",
    "        return token\n",
    "    \n",
    "    def __call__(self, text):\n",
    "        x = self.encode(text)\n",
    "        preds = np.dot(self.w, x) + self.b\n",
    "        preds = preds.flatten()\n",
    "        preds = self.softmax(preds)\n",
    "        idx_pred_max = preds.index(max(preds))\n",
    "        labels = {}\n",
    "        for i in range(len(self.classes)):\n",
    "            labels[self.classes[i]] = preds[i]\n",
    "        return self.classes[idx_pred_max], labels\n",
    "    \n",
    "    @staticmethod\n",
    "    def softmax(array):\n",
    "        denominator = sum([np.exp(i) for i in array])\n",
    "        return [np.exp(i) / denominator for i in array]\n",
    "    \n",
    "    def fit(self, dataset, epochs=1, batch_size=1, lr=0.1):\n",
    "        \"\"\"\n",
    "        Implement stochastic gradient descent to estimate w and b parameters\n",
    "        Args:\n",
    "            dataset (pd.DataFrame): train dataset with columns \"destination\" and \"code\"\n",
    "        \"\"\"\n",
    "        losses = []\n",
    "        accuracies = []\n",
    "        for epoch in range(epochs):\n",
    "            total_loss = 0\n",
    "            accuracy = 0\n",
    "            \n",
    "            for i in range(len(dataset)):\n",
    "                text = dataset.iloc[i][\"destination\"]\n",
    "                x = self.encode(text)\n",
    "                target = dataset.iloc[i][\"code\"]\n",
    "                \n",
    "                y_true = np.zeros((len(self.classes), 1))\n",
    "                y_true[self.classes.index(target)][0] = 1\n",
    "                y_pred = np.dot(self.w, x) + self.b\n",
    "                \n",
    "                denominator = sum([np.exp(i) for i in y_pred.tolist()])\n",
    "                for i in range(y_pred.size):\n",
    "                    y_pred[i][0] = np.exp(y_pred[i][0]) / denominator\n",
    "\n",
    "                # compute gradient and update parameters\n",
    "                dw = -np.dot(y_true - y_pred, np.transpose(x))\n",
    "                db = - (y_true - y_pred)\n",
    "\n",
    "                self.w -= lr * dw\n",
    "                self.b -= lr * db\n",
    "                \n",
    "                total_loss += np.sum((y_true - y_pred)**2)\n",
    "                if np.argmax(y_pred) == np.argmax(y_true): accuracy += 1\n",
    "            \n",
    "            accuracy /= len(dataset)\n",
    "            losses.append(total_loss)\n",
    "            accuracies.append(accuracy)\n",
    "            print(f\"Epoch: {epoch+1}/{epochs} | Accuracy: {accuracy} | Loss: {total_loss}\")\n",
    "        \n",
    "        \n",
    "        plt.rcParams['figure.figsize'] = [10, 4]\n",
    "        plt.rcParams['figure.dpi'] = 100\n",
    "        fig, ax = plt.subplots(1,2)\n",
    "        sns.lineplot(range(epochs), losses, ax=ax[0]).set(title=\"Loss\", xlabel=\"Epoch\")\n",
    "        sns.lineplot(range(epochs), accuracies, ax=ax[1]).set(title=\"Accuracy\", xlabel=\"Epoch\")\n",
    "        fig.show()\n",
    "        return losses, accuracies\n",
    "\n",
    "    def eval(self, dataset):\n",
    "        corrects = 0\n",
    "        errors = []\n",
    "        \n",
    "        for i in tqdm(range(len(dataset))):\n",
    "            text = dataset.iloc[i][\"destination\"]\n",
    "            target = dataset.iloc[i][\"code\"]\n",
    "            \n",
    "            pred, _ = self(text)\n",
    "            if pred == target: corrects += 1\n",
    "            else: errors.append((text, target, pred))\n",
    "        \n",
    "        return corrects / len(dataset), errors"
   ]
  },
  {
   "cell_type": "code",
   "execution_count": 93,
   "metadata": {},
   "outputs": [],
   "source": [
    "train, test = get_train_test_split()\n",
    "classes = train[\"code\"].unique().tolist()\n",
    "\n",
    "model = Linear(classes=classes, max_len=40)"
   ]
  },
  {
   "cell_type": "code",
   "execution_count": 94,
   "metadata": {},
   "outputs": [
    {
     "name": "stdout",
     "output_type": "stream",
     "text": [
      "Epoch: 1/20 | Accuracy: 0.43434343434343436 | Loss: 147.30404428358418\n",
      "Epoch: 2/20 | Accuracy: 0.8080808080808081 | Loss: 54.999739830423835\n",
      "Epoch: 3/20 | Accuracy: 0.9141414141414141 | Loss: 30.88563332697833\n",
      "Epoch: 4/20 | Accuracy: 0.9595959595959596 | Loss: 18.3574004923204\n",
      "Epoch: 5/20 | Accuracy: 0.9848484848484849 | Loss: 11.998159018212535\n",
      "Epoch: 6/20 | Accuracy: 0.98989898989899 | Loss: 8.339017057977474\n",
      "Epoch: 7/20 | Accuracy: 0.9949494949494949 | Loss: 5.997161461584384\n",
      "Epoch: 8/20 | Accuracy: 1.0 | Loss: 4.469866256612849\n",
      "Epoch: 9/20 | Accuracy: 1.0 | Loss: 3.4198544133049023\n",
      "Epoch: 10/20 | Accuracy: 1.0 | Loss: 2.6656452584998123\n",
      "Epoch: 11/20 | Accuracy: 1.0 | Loss: 2.1148220003688554\n",
      "Epoch: 12/20 | Accuracy: 1.0 | Loss: 1.707787854511986\n",
      "Epoch: 13/20 | Accuracy: 1.0 | Loss: 1.4023421376792151\n",
      "Epoch: 14/20 | Accuracy: 1.0 | Loss: 1.1690794287409583\n",
      "Epoch: 15/20 | Accuracy: 1.0 | Loss: 0.9878000085631754\n",
      "Epoch: 16/20 | Accuracy: 1.0 | Loss: 0.8445786851583739\n",
      "Epoch: 17/20 | Accuracy: 1.0 | Loss: 0.7297006895872064\n",
      "Epoch: 18/20 | Accuracy: 1.0 | Loss: 0.636288948007428\n",
      "Epoch: 19/20 | Accuracy: 1.0 | Loss: 0.559398572489345\n",
      "Epoch: 20/20 | Accuracy: 1.0 | Loss: 0.49541602228608583\n"
     ]
    },
    {
     "name": "stderr",
     "output_type": "stream",
     "text": [
      "/home/achraf/.local/lib/python3.6/site-packages/seaborn/_decorators.py:43: FutureWarning: Pass the following variables as keyword args: x, y. From version 0.12, the only valid positional argument will be `data`, and passing other arguments without an explicit keyword will result in an error or misinterpretation.\n",
      "  FutureWarning\n",
      "/home/achraf/.local/lib/python3.6/site-packages/seaborn/_decorators.py:43: FutureWarning: Pass the following variables as keyword args: x, y. From version 0.12, the only valid positional argument will be `data`, and passing other arguments without an explicit keyword will result in an error or misinterpretation.\n",
      "  FutureWarning\n",
      "/home/achraf/.local/lib/python3.6/site-packages/ipykernel_launcher.py:107: UserWarning: Matplotlib is currently using module://ipykernel.pylab.backend_inline, which is a non-GUI backend, so cannot show the figure.\n"
     ]
    },
    {
     "data": {
      "image/png": "[encoded data removed]",
      "text/plain": [
       "<Figure size 1000x400 with 2 Axes>"
      ]
     },
     "metadata": {
      "needs_background": "light"
     },
     "output_type": "display_data"
    }
   ],
   "source": [
    "losses, accuracies = model.fit(train, epochs=20, lr=0.1)"
   ]
  },
  {
   "cell_type": "code",
   "execution_count": 95,
   "metadata": {
    "scrolled": true
   },
   "outputs": [
    {
     "name": "stderr",
     "output_type": "stream",
     "text": [
      "100%|██████████| 50/50 [00:00<00:00, 2779.19it/s]\n"
     ]
    },
    {
     "data": {
      "text/plain": [
       "(0.76,\n",
       " [('ES CAD>FR BES', 'FRBES', 'ESSDR'),\n",
       "  ('IE  DUB > ES  SDR', 'ESSDR', 'FRLEH'),\n",
       "  ('FROM GBSOU TO ESSDR', 'ESSDR', 'FRLEH'),\n",
       "  ('FR BOD', 'FRBOD', 'FRBES'),\n",
       "  ('RU LED > ES SDR', 'ESSDR', 'BEANR'),\n",
       "  ('ESALG>FRLEH', 'FRLEH', 'NLRTM'),\n",
       "  ('GBSOU>ESSDR', 'ESSDR', 'FRBOD'),\n",
       "  ('FR BOD > RU PRI', 'FRBOD', 'FRBES'),\n",
       "  ('ITGIT=>BEANR', 'BEANR', 'NLRTM'),\n",
       "  ('EG ALY>FR LEH', 'FRLEH', 'NLRTM'),\n",
       "  ('ESGIJ>BEANR', 'BEANR', 'NLRTM'),\n",
       "  ('BODEAUX', 'FRBOD', 'FRBES')])"
      ]
     },
     "execution_count": 95,
     "metadata": {},
     "output_type": "execute_result"
    }
   ],
   "source": [
    "model.eval(test)"
   ]
  }
 ],
 "metadata": {
  "kernelspec": {
   "display_name": "pytorch",
   "language": "python",
   "name": "pytorch"
  },
  "language_info": {
   "codemirror_mode": {
    "name": "ipython",
    "version": 3
   },
   "file_extension": ".py",
   "mimetype": "text/x-python",
   "name": "python",
   "nbconvert_exporter": "python",
   "pygments_lexer": "ipython3",
   "version": "3.6.10"
  }
 },
 "nbformat": 4,
 "nbformat_minor": 2
}
