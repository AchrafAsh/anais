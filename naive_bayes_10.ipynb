{
 "cells": [
  {
   "cell_type": "code",
   "execution_count": 94,
   "metadata": {},
   "outputs": [],
   "source": [
    "import string\n",
    "import numpy as np\n",
    "import pandas as pd\n",
    "from data import get_train_test_split\n",
    "from models.utils import damerau_levenshtein_distance\n",
    "from tqdm import tqdm\n",
    "from collections import Counter\n",
    "from itertools import product"
   ]
  },
  {
   "cell_type": "code",
   "execution_count": 115,
   "metadata": {},
   "outputs": [],
   "source": [
    "def create_ngram(n=2):\n",
    "    combs = product(string.ascii_lowercase, repeat=n)\n",
    "    ngrams = []\n",
    "    for el in combs:\n",
    "        ngrams.append(\"\".join(el))\n",
    "    \n",
    "    return ngrams"
   ]
  },
  {
   "cell_type": "code",
   "execution_count": 124,
   "metadata": {},
   "outputs": [],
   "source": [
    "class NaiveBayes:\n",
    "    def __init__(self, n_gram, classes):\n",
    "        \"\"\"\n",
    "        Args:\n",
    "            n (int)\n",
    "        \"\"\"\n",
    "        self.ngrams = create_ngram(n_gram)\n",
    "        self.probs = pd.DataFrame(1, index=np.arange(len(self.ngrams)).tolist(), columns=classes)\n",
    "        self.classes = classes\n",
    "        self.y_prob = {}\n",
    "        for label in classes: self.y_prob[label] = 0\n",
    "    \n",
    "    def fit(self, dataset):\n",
    "        total_grams_per_class = {}\n",
    "        for label in self.classes: total_grams_per_class[label] = 0\n",
    "        \n",
    "        for idx in tqdm(range(len(dataset))):\n",
    "            text = dataset.iloc[idx][\"destination\"]\n",
    "            target = dataset.iloc[idx][\"code\"]\n",
    "            \n",
    "            self.y_prob[target] += 1\n",
    "            total_grams_per_class[target] += 1\n",
    "            \n",
    "            for idx in range(len(self.ngrams)):\n",
    "                if self.ngrams[idx] in text.lower(): self.probs.loc[idx, target] += 1\n",
    "        \n",
    "        # divide by the total number of word for each column\n",
    "        for target in self.classes:\n",
    "            self.probs[target] /= total_grams_per_class[target] * len(self.ngrams)\n",
    "            self.y_prob[target] /= sum(self.y_prob.values())\n",
    "    \n",
    "    def predict(self, text):\n",
    "        pred_targets = {}\n",
    "        for label in self.classes: pred_targets[label] = 1\n",
    "        \n",
    "        for idx in range(len(self.ngrams)):\n",
    "            if self.ngrams[idx] in text.lower():\n",
    "                for label in self.classes:\n",
    "                    pred_targets[label] *= self.y_prob[label] * self.probs.loc[idx, label]\n",
    "        \n",
    "        return pred_targets\n",
    "    \n",
    "    def evaluate(self, dataset):\n",
    "        accuracy = 0\n",
    "        errors = []\n",
    "\n",
    "        for idx in tqdm(range(len(dataset))):\n",
    "            text = dataset.iloc[idx][\"destination\"]\n",
    "            target = dataset.iloc[idx][\"code\"]\n",
    "\n",
    "            preds = model(text)\n",
    "            label = max(preds, key=preds.get)\n",
    "\n",
    "            if label == target: accuracy += 1\n",
    "            else: errors.append((text, target, label))\n",
    "\n",
    "\n",
    "        accuracy = accuracy / len(dataset)\n",
    "        print(f\"Accuracy: {accuracy} | Errors: {len(errors)}\")\n",
    "\n",
    "        return accuracy, errors\n",
    "    \n",
    "    def __call__(self, text): return self.predict(text)"
   ]
  },
  {
   "cell_type": "code",
   "execution_count": 125,
   "metadata": {},
   "outputs": [],
   "source": [
    "train, test = get_train_test_split(\"10_ports.csv\")"
   ]
  },
  {
   "cell_type": "code",
   "execution_count": 126,
   "metadata": {},
   "outputs": [],
   "source": [
    "classes = ['FRBES','ESSDR','NLRTM','BEANR','FRLEH',\n",
    "           'FRSML','ESBIO','FRMTX','FRIRK','FRBOD']\n",
    "model = NaiveBayes(3, classes)"
   ]
  },
  {
   "cell_type": "code",
   "execution_count": 127,
   "metadata": {},
   "outputs": [
    {
     "name": "stderr",
     "output_type": "stream",
     "text": [
      "100%|██████████| 198/198 [00:00<00:00, 323.28it/s]\n"
     ]
    }
   ],
   "source": [
    "model.fit(train)"
   ]
  },
  {
   "cell_type": "code",
   "execution_count": 128,
   "metadata": {},
   "outputs": [
    {
     "name": "stderr",
     "output_type": "stream",
     "text": [
      "100%|██████████| 50/50 [00:00<00:00, 352.65it/s]"
     ]
    },
    {
     "name": "stdout",
     "output_type": "stream",
     "text": [
      "Accuracy: 0.36 | Errors: 32\n"
     ]
    },
    {
     "name": "stderr",
     "output_type": "stream",
     "text": [
      "\n"
     ]
    },
    {
     "data": {
      "text/plain": [
       "(0.36,\n",
       " [('ST.MALO/FRANCE.', 'FRSML', 'FRBOD'),\n",
       "  ('NL RTM>FR NTE', 'NLRTM', 'FRBOD'),\n",
       "  ('GABES', 'FRBES', 'FRBOD'),\n",
       "  ('FR BAY>BE ANR', 'BEANR', 'FRBOD'),\n",
       "  ('FR LPE>NL RTM', 'NLRTM', 'FRBOD'),\n",
       "  ('NL RTM TO US PME', 'NLRTM', 'FRBOD'),\n",
       "  ('MA-SFI>BE-ANR', 'BEANR', 'FRBOD'),\n",
       "  ('BE ANR > IT PVE', 'BEANR', 'FRBOD'),\n",
       "  ('SGSIN -> NLRTM', 'NLRTM', 'FRBOD'),\n",
       "  ('ANTWERP (WANDELAAR)', 'BEANR', 'FRBOD'),\n",
       "  ('ANTWERP  ORDERS', 'BEANR', 'FRBOD'),\n",
       "  ('BREST(FRANCE)', 'FRBES', 'FRBOD'),\n",
       "  ('FROM GBSOU TO ESSDR', 'ESSDR', 'FRBOD'),\n",
       "  ('SANTANDER VIA KIEL', 'ESSDR', 'FRBOD'),\n",
       "  ('NL RTM>FR SET', 'NLRTM', 'FRBOD'),\n",
       "  ('NL RTM/FR DON', 'NLRTM', 'FRBOD'),\n",
       "  ('BREST, FRANCE', 'FRBES', 'FRBOD'),\n",
       "  ('NL RTM > BAL', 'NLRTM', 'FRBOD'),\n",
       "  ('ES SDR > FR BES', 'FRBES', 'FRBOD'),\n",
       "  ('NL RTM>US BAL', 'NLRTM', 'FRBOD'),\n",
       "  ('FR BES > PT LEI', 'FRBES', 'FRBOD'),\n",
       "  ('ITGIT=>BEANR', 'BEANR', 'FRBOD'),\n",
       "  ('ANTWERP ORDERS', 'BEANR', 'FRBOD'),\n",
       "  ('AERUW->FRLEH', 'FRLEH', 'FRBOD'),\n",
       "  ('ROTTERCAM', 'NLRTM', 'FRBOD'),\n",
       "  ('FRLEH=>FRFOS', 'FRLEH', 'FRBOD'),\n",
       "  ('GI GIB > BE ANR', 'BEANR', 'FRBOD'),\n",
       "  ('BE ANR > FR DON', 'BEANR', 'FRBOD'),\n",
       "  ('EGSUC>>NLRTM', 'NLRTM', 'FRBOD'),\n",
       "  ('PT SIE>NL RTM', 'NLRTM', 'FRBOD'),\n",
       "  ('DUKIRK, FRANCE', 'FRIRK', 'FRBOD'),\n",
       "  ('ANTWERP WANDELAAR', 'BEANR', 'FRBOD')])"
      ]
     },
     "execution_count": 128,
     "metadata": {},
     "output_type": "execute_result"
    }
   ],
   "source": [
    "model.evaluate(test)"
   ]
  },
  {
   "cell_type": "code",
   "execution_count": 129,
   "metadata": {},
   "outputs": [],
   "source": [
    "import seaborn as sns"
   ]
  },
  {
   "cell_type": "code",
   "execution_count": 133,
   "metadata": {},
   "outputs": [],
   "source": [
    "ngrams_grid = np.arange(1,5)"
   ]
  },
  {
   "cell_type": "code",
   "execution_count": 135,
   "metadata": {},
   "outputs": [
    {
     "name": "stderr",
     "output_type": "stream",
     "text": [
      "100%|██████████| 198/198 [00:00<00:00, 719.52it/s]\n",
      "100%|██████████| 50/50 [00:00<00:00, 1206.36it/s]\n",
      " 38%|███▊      | 76/198 [00:00<00:00, 753.45it/s]"
     ]
    },
    {
     "name": "stdout",
     "output_type": "stream",
     "text": [
      "Accuracy: 0.08 | Errors: 46\n"
     ]
    },
    {
     "name": "stderr",
     "output_type": "stream",
     "text": [
      "100%|██████████| 198/198 [00:00<00:00, 709.83it/s]\n",
      "100%|██████████| 50/50 [00:00<00:00, 1212.60it/s]\n",
      " 37%|███▋      | 73/198 [00:00<00:00, 357.75it/s]"
     ]
    },
    {
     "name": "stdout",
     "output_type": "stream",
     "text": [
      "Accuracy: 0.34 | Errors: 33\n"
     ]
    },
    {
     "name": "stderr",
     "output_type": "stream",
     "text": [
      "100%|██████████| 198/198 [00:00<00:00, 332.16it/s]\n",
      "100%|██████████| 50/50 [00:00<00:00, 369.20it/s]\n",
      "  1%|          | 2/198 [00:00<00:11, 17.48it/s]"
     ]
    },
    {
     "name": "stdout",
     "output_type": "stream",
     "text": [
      "Accuracy: 0.36 | Errors: 32\n"
     ]
    },
    {
     "name": "stderr",
     "output_type": "stream",
     "text": [
      "100%|██████████| 198/198 [00:09<00:00, 19.88it/s]\n",
      "100%|██████████| 50/50 [00:02<00:00, 19.31it/s]"
     ]
    },
    {
     "name": "stdout",
     "output_type": "stream",
     "text": [
      "Accuracy: 0.34 | Errors: 33\n"
     ]
    },
    {
     "name": "stderr",
     "output_type": "stream",
     "text": [
      "\n"
     ]
    }
   ],
   "source": [
    "accuracies = []\n",
    "\n",
    "for n in ngrams_grid:\n",
    "    model = NaiveBayes(n, classes)\n",
    "    model.fit(train)\n",
    "    \n",
    "    accuracy, _ = model.evaluate(test)\n",
    "    accuracies.append(accuracy)"
   ]
  },
  {
   "cell_type": "code",
   "execution_count": 139,
   "metadata": {},
   "outputs": [
    {
     "name": "stderr",
     "output_type": "stream",
     "text": [
      "/home/achraf/.local/lib/python3.6/site-packages/seaborn/_decorators.py:43: FutureWarning: Pass the following variables as keyword args: x, y. From version 0.12, the only valid positional argument will be `data`, and passing other arguments without an explicit keyword will result in an error or misinterpretation.\n",
      "  FutureWarning\n"
     ]
    },
    {
     "data": {
      "text/plain": [
       "[Text(0.5, 1.0, 'Accuracy'), Text(0.5, 0, 'N-gram'), Text(0, 0.5, 'Accuracy')]"
      ]
     },
     "execution_count": 139,
     "metadata": {},
     "output_type": "execute_result"
    },
    {
     "data": {
      "image/png": "[encoded data removed]",
      "text/plain": [
       "<Figure size 432x288 with 1 Axes>"
      ]
     },
     "metadata": {
      "needs_background": "light"
     },
     "output_type": "display_data"
    }
   ],
   "source": [
    "sns.lineplot(ngrams_grid, accuracies).set(title=\"Accuracy\", xlabel=\"N-gram\", ylabel=\"Accuracy\")"
   ]
  }
 ],
 "metadata": {
  "kernelspec": {
   "display_name": "pytorch",
   "language": "python",
   "name": "pytorch"
  },
  "language_info": {
   "codemirror_mode": {
    "name": "ipython",
    "version": 3
   },
   "file_extension": ".py",
   "mimetype": "text/x-python",
   "name": "python",
   "nbconvert_exporter": "python",
   "pygments_lexer": "ipython3",
   "version": "3.6.10"
  }
 },
 "nbformat": 4,
 "nbformat_minor": 2
}
