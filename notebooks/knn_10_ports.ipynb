{
 "cells": [
  {
   "cell_type": "code",
   "execution_count": 4,
   "metadata": {},
   "outputs": [],
   "source": [
    "from models.knn import KNN\n",
    "from src.data import get_train_test_split, regexp_processing\n",
    "from src.criterion import get_recall\n",
    "from src.constants import constants\n",
    "CLASSES = constants['classes']\n",
    "\n",
    "import numpy as np\n",
    "import seaborn as sns"
   ]
  },
  {
   "cell_type": "code",
   "execution_count": 5,
   "metadata": {},
   "outputs": [],
   "source": [
    "train, test = get_train_test_split(transform=regexp_processing)"
   ]
  },
  {
   "cell_type": "code",
   "execution_count": 6,
   "metadata": {},
   "outputs": [],
   "source": [
    "model = KNN(k=4, classes=CLASSES)"
   ]
  },
  {
   "cell_type": "code",
   "execution_count": 7,
   "metadata": {},
   "outputs": [],
   "source": [
    "model.fit(train)"
   ]
  },
  {
   "cell_type": "code",
   "execution_count": 8,
   "metadata": {
    "scrolled": true
   },
   "outputs": [
    {
     "name": "stderr",
     "output_type": "stream",
     "text": [
      "100%|██████████| 50/50 [00:02<00:00, 20.20it/s]\n"
     ]
    },
    {
     "data": {
      "text/plain": [
       "(0.82,\n",
       " [('BAL', 'BEANR', 'NLRTM'),\n",
       "  ('FROM GBSOU TO ESSDR', 'BEANR', 'ESSDR'),\n",
       "  ('FR NTE', 'FRLEH', 'NLRTM'),\n",
       "  ('FR DON', 'FRLEH', 'BEANR'),\n",
       "  ('FR NTE', 'FRLEH', 'NLRTM'),\n",
       "  ('RU PRI', 'BEANR', 'FRBOD'),\n",
       "  ('FRMTX', 'FRLEH', 'FRMTX'),\n",
       "  ('ST.MALO/FRANCE.', 'FRBES', 'FRSML'),\n",
       "  ('ROTTERDAM FOR ORDERS', 'BEANR', 'NLRTM')])"
      ]
     },
     "execution_count": 8,
     "metadata": {},
     "output_type": "execute_result"
    }
   ],
   "source": [
    "model.eval(test)"
   ]
  },
  {
   "cell_type": "code",
   "execution_count": 88,
   "metadata": {
    "scrolled": false
   },
   "outputs": [
    {
     "data": {
      "text/plain": [
       "('NLRTM',\n",
       " {'FRBES': 0,\n",
       "  'ESSDR': 0.13447071068499755,\n",
       "  'NLRTM': 0.7310585786300049,\n",
       "  'BEANR': 0,\n",
       "  'FRLEH': 0,\n",
       "  'FRSML': 0,\n",
       "  'ESBIO': 0,\n",
       "  'FRMTX': 0.13447071068499755,\n",
       "  'FRIRK': 0,\n",
       "  'FRBOD': 0},\n",
       " [('ROTTERAM', 'NLRTM'),\n",
       "  ('MONTOIR  FRANCE', 'FRMTX'),\n",
       "  ('SANTANDER', 'ESSDR'),\n",
       "  ('ROTTERDAM', 'NLRTM')])"
      ]
     },
     "execution_count": 88,
     "metadata": {},
     "output_type": "execute_result"
    }
   ],
   "source": [
    "model(\"Rotterdam\")"
   ]
  },
  {
   "cell_type": "code",
   "execution_count": 10,
   "metadata": {},
   "outputs": [
    {
     "name": "stderr",
     "output_type": "stream",
     "text": [
      "100%|██████████| 50/50 [00:01<00:00, 37.35it/s]\n",
      "100%|██████████| 50/50 [00:01<00:00, 25.37it/s]\n",
      "100%|██████████| 50/50 [00:02<00:00, 20.31it/s]\n",
      "100%|██████████| 50/50 [00:02<00:00, 16.84it/s]\n",
      "100%|██████████| 50/50 [00:03<00:00, 14.21it/s]\n",
      "100%|██████████| 50/50 [00:04<00:00, 12.11it/s]\n"
     ]
    },
    {
     "data": {
      "text/plain": [
       "[Text(0.5, 1.0, 'Accuracy'),\n",
       " Text(0.5, 0, 'k parameter'),\n",
       " Text(0, 0.5, 'Accuracy')]"
      ]
     },
     "execution_count": 10,
     "metadata": {},
     "output_type": "execute_result"
    },
    {
     "data": {
      "image/png": "[encoded data removed]",
      "text/plain": [
       "<Figure size 432x288 with 1 Axes>"
      ]
     },
     "metadata": {
      "needs_background": "light"
     },
     "output_type": "display_data"
    }
   ],
   "source": [
    "accuracies = []\n",
    "\n",
    "for k in range(2, 8):\n",
    "    model = KNN(k=k, classes=CLASSES)\n",
    "    model.fit(train)\n",
    "    acc,_ = model.eval(test)\n",
    "    \n",
    "    accuracies.append(acc)\n",
    "\n",
    "sns.lineplot(x=range(2,8), y=accuracies).set(title=\"Accuracy\", xlabel=\"k parameter\", ylabel=\"Accuracy\")"
   ]
  },
  {
   "cell_type": "code",
   "execution_count": 11,
   "metadata": {},
   "outputs": [
    {
     "data": {
      "text/plain": [
       "(0.8, 0.9, 0.94)"
      ]
     },
     "execution_count": 11,
     "metadata": {},
     "output_type": "execute_result"
    }
   ],
   "source": [
    "model = KNN(k=4, classes=CLASSES)\n",
    "model.fit(train)\n",
    "get_recall(model, test)"
   ]
  }
 ],
 "metadata": {
  "kernelspec": {
   "display_name": "pytorch",
   "language": "python",
   "name": "pytorch"
  },
  "language_info": {
   "codemirror_mode": {
    "name": "ipython",
    "version": 3
   },
   "file_extension": ".py",
   "mimetype": "text/x-python",
   "name": "python",
   "nbconvert_exporter": "python",
   "pygments_lexer": "ipython3",
   "version": "3.6.10"
  }
 },
 "nbformat": 4,
 "nbformat_minor": 2
}
