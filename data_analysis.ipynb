{
 "cells": [
  {
   "cell_type": "code",
   "execution_count": 1,
   "metadata": {},
   "outputs": [],
   "source": [
    "import numpy as np\n",
    "import pandas as pd\n",
    "import matplotlib.pyplot as plt"
   ]
  },
  {
   "cell_type": "code",
   "execution_count": 14,
   "metadata": {},
   "outputs": [],
   "source": [
    "filename = \"./data/clean_dataset.csv\"\n",
    "df = pd.read_csv(filename)"
   ]
  },
  {
   "cell_type": "code",
   "execution_count": 5,
   "metadata": {},
   "outputs": [],
   "source": [
    "# Remove spaces in world port index (FR BES => FRBES) for consistency\n",
    "df[\"code\"] = df[\"code\"].apply(lambda code: code.replace(\" \", \"\"))"
   ]
  },
  {
   "cell_type": "code",
   "execution_count": 6,
   "metadata": {},
   "outputs": [
    {
     "name": "stdout",
     "output_type": "stream",
     "text": [
      "226\n"
     ]
    }
   ],
   "source": [
    "# Number of unique world port index\n",
    "\n",
    "output_vocab = df[\"code\"].unique()\n",
    "print(len(output_vocab))"
   ]
  },
  {
   "cell_type": "code",
   "execution_count": 8,
   "metadata": {},
   "outputs": [
    {
     "name": "stdout",
     "output_type": "stream",
     "text": [
      "max occurence: 12 | min occurence: 1\n"
     ]
    },
    {
     "data": {
      "text/plain": [
       "{'whiskers': [<matplotlib.lines.Line2D at 0x7fa538ff2710>,\n",
       "  <matplotlib.lines.Line2D at 0x7fa538ff29b0>],\n",
       " 'caps': [<matplotlib.lines.Line2D at 0x7fa538ff2cc0>,\n",
       "  <matplotlib.lines.Line2D at 0x7fa538ff2f98>],\n",
       " 'boxes': [<matplotlib.lines.Line2D at 0x7fa538ff24a8>],\n",
       " 'medians': [<matplotlib.lines.Line2D at 0x7fa5390082b0>],\n",
       " 'fliers': [<matplotlib.lines.Line2D at 0x7fa539008588>],\n",
       " 'means': []}"
      ]
     },
     "execution_count": 8,
     "metadata": {},
     "output_type": "execute_result"
    },
    {
     "data": {
      "image/png": "[encoded data removed]",
      "text/plain": [
       "<Figure size 432x288 with 1 Axes>"
      ]
     },
     "metadata": {
      "needs_background": "light"
     },
     "output_type": "display_data"
    }
   ],
   "source": [
    "# Number of occurences by world port index\n",
    "\n",
    "occurences = df.groupby([\"code\"])[\"input\"].count()\n",
    "print(f\"max occurence: {occurences.max()} | min occurence: {occurences.min()}\")\n",
    "plt.boxplot(occurences)"
   ]
  },
  {
   "cell_type": "code",
   "execution_count": 10,
   "metadata": {},
   "outputs": [
    {
     "name": "stdout",
     "output_type": "stream",
     "text": [
      "World port index appearing once: 70.35%\n",
      "World port index appearing < 3): 86.28%\n"
     ]
    }
   ],
   "source": [
    "print(f\"World port index appearing once: {occurences[occurences == 1].count() / len(df.code.unique()):2.2%}\")\n",
    "print(f\"World port index appearing < 3): {occurences[occurences < 3].count() / len(df.code.unique()):2.2%}\")"
   ]
  }
 ],
 "metadata": {
  "kernelspec": {
   "display_name": "Python 3",
   "language": "python",
   "name": "python3"
  },
  "language_info": {
   "codemirror_mode": {
    "name": "ipython",
    "version": 3
   },
   "file_extension": ".py",
   "mimetype": "text/x-python",
   "name": "python",
   "nbconvert_exporter": "python",
   "pygments_lexer": "ipython3",
   "version": "3.6.9"
  }
 },
 "nbformat": 4,
 "nbformat_minor": 2
}
