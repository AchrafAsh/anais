{
 "cells": [
  {
   "cell_type": "code",
   "execution_count": 15,
   "metadata": {},
   "outputs": [],
   "source": [
    "import numpy as np\n",
    "import pandas as pd\n",
    "import matplotlib.pyplot as plt\n",
    "import seaborn as sns\n",
    "sns.set(color_codes=True)"
   ]
  },
  {
   "cell_type": "code",
   "execution_count": 65,
   "metadata": {},
   "outputs": [
    {
     "data": {
      "text/plain": [
       "360"
      ]
     },
     "execution_count": 65,
     "metadata": {},
     "output_type": "execute_result"
    }
   ],
   "source": [
    "filename = \"./data/clean_dataset.csv\"\n",
    "df = pd.read_csv(filename)\n",
    "len(df)"
   ]
  },
  {
   "cell_type": "code",
   "execution_count": 66,
   "metadata": {},
   "outputs": [],
   "source": [
    "# Remove spaces in world port index (FR BES => FRBES) for consistency\n",
    "df[\"code\"] = df[\"code\"].apply(lambda code: code.replace(\" \", \"\"))"
   ]
  },
  {
   "cell_type": "code",
   "execution_count": 67,
   "metadata": {},
   "outputs": [
    {
     "name": "stdout",
     "output_type": "stream",
     "text": [
      "226\n"
     ]
    }
   ],
   "source": [
    "# Number of unique world port index\n",
    "\n",
    "output_vocab = df[\"code\"].unique()\n",
    "print(len(output_vocab))"
   ]
  },
  {
   "cell_type": "code",
   "execution_count": 84,
   "metadata": {},
   "outputs": [
    {
     "name": "stdout",
     "output_type": "stream",
     "text": [
      "max occurences: 12 | min occurences: 1\n"
     ]
    },
    {
     "name": "stderr",
     "output_type": "stream",
     "text": [
      "/home/achraf/.local/lib/python3.6/site-packages/seaborn/_decorators.py:43: FutureWarning: Pass the following variable as a keyword arg: x. From version 0.12, the only valid positional argument will be `data`, and passing other arguments without an explicit keyword will result in an error or misinterpretation.\n",
      "  FutureWarning\n"
     ]
    },
    {
     "data": {
      "text/plain": [
       "[Text(0.5, 1.0, 'Occurences des world port index'), Text(0.5, 0, 'occurences')]"
      ]
     },
     "execution_count": 84,
     "metadata": {},
     "output_type": "execute_result"
    },
    {
     "data": {
      "image/png": "[encoded data removed]",
      "text/plain": [
       "<Figure size 432x288 with 1 Axes>"
      ]
     },
     "metadata": {},
     "output_type": "display_data"
    }
   ],
   "source": [
    "# Number of occurences by world port index\n",
    "\n",
    "occurences = df.groupby([\"code\"])[\"input\"].count()\n",
    "print(f\"max occurences: {occurences.max()} | min occurences: {occurences.min()}\")\n",
    "sns.boxplot(occurences.values).set(\n",
    "    title=\"Occurences des world port index\",\n",
    "    xlabel=\"occurences\"\n",
    ")"
   ]
  },
  {
   "cell_type": "code",
   "execution_count": 70,
   "metadata": {},
   "outputs": [
    {
     "name": "stdout",
     "output_type": "stream",
     "text": [
      "World port index appearing once: 70.35%\n",
      "World port index appearing < 3): 86.28%\n"
     ]
    }
   ],
   "source": [
    "print(f\"World port index appearing once: {occurences[occurences == 1].count() / len(df.code.unique()):2.2%}\")\n",
    "print(f\"World port index appearing < 3): {occurences[occurences <= 2].count() / len(df.code.unique()):2.2%}\")"
   ]
  },
  {
   "cell_type": "code",
   "execution_count": 19,
   "metadata": {},
   "outputs": [
    {
     "data": {
      "text/plain": [
       "code\n",
       "BEANR     5\n",
       "BEZEE     4\n",
       "ESBIO     4\n",
       "ESSDR     5\n",
       "FRBES     9\n",
       "FRBOD     5\n",
       "FRGVC     4\n",
       "FRIRK     4\n",
       "FRLEH     6\n",
       "FRLRH     4\n",
       "FRMTX     5\n",
       "FRSML     6\n",
       "GBPME     4\n",
       "NLAMS     4\n",
       "NLRTM    12\n",
       "Name: input, dtype: int64"
      ]
     },
     "execution_count": 19,
     "metadata": {},
     "output_type": "execute_result"
    }
   ],
   "source": [
    "occurences[occurences > 3]"
   ]
  },
  {
   "cell_type": "code",
   "execution_count": 81,
   "metadata": {},
   "outputs": [
    {
     "name": "stderr",
     "output_type": "stream",
     "text": [
      "/home/achraf/.local/lib/python3.6/site-packages/seaborn/_decorators.py:43: FutureWarning: Pass the following variables as keyword args: x, y. From version 0.12, the only valid positional argument will be `data`, and passing other arguments without an explicit keyword will result in an error or misinterpretation.\n",
      "  FutureWarning\n"
     ]
    },
    {
     "data": {
      "text/plain": [
       "[Text(0.5, 1.0, 'Occurences des world port index'),\n",
       " Text(0.5, 0, 'world port index'),\n",
       " Text(0, 0.5, 'occurences')]"
      ]
     },
     "execution_count": 81,
     "metadata": {},
     "output_type": "execute_result"
    },
    {
     "data": {
      "image/png": "[encoded data removed]",
      "text/plain": [
       "<Figure size 432x288 with 1 Axes>"
      ]
     },
     "metadata": {},
     "output_type": "display_data"
    }
   ],
   "source": [
    "sns.barplot(\n",
    "    occurences[occurences > 4].index, occurences[occurences > 4].values\n",
    ").set(\n",
    "    title=\"Occurences des world port index\",\n",
    "    xlabel=\"world port index\",\n",
    "    ylabel=\"occurences\"\n",
    ")"
   ]
  },
  {
   "cell_type": "code",
   "execution_count": 71,
   "metadata": {},
   "outputs": [
    {
     "data": {
      "text/plain": [
       "9"
      ]
     },
     "execution_count": 71,
     "metadata": {},
     "output_type": "execute_result"
    }
   ],
   "source": [
    "len(df[df[\"code\"] == \"NLRTM\"][\"input\"].apply(lambda x: x.replace(\" \", \"\")).unique())\n",
    "len(df[df[\"code\"] == \"FRBES\"][\"input\"].apply(lambda x: x.replace(\" \", \"\")).unique())"
   ]
  },
  {
   "cell_type": "code",
   "execution_count": 78,
   "metadata": {},
   "outputs": [
    {
     "data": {
      "text/plain": [
       "['BREST',\n",
       " 'RADEDEBREST',\n",
       " 'BRESTPILOT',\n",
       " 'BRESTFRANCE',\n",
       " 'BREST,FRANCE',\n",
       " 'RADEBREST',\n",
       " 'BESFR',\n",
       " 'BRESTF.O.',\n",
       " 'BRESTFR']"
      ]
     },
     "execution_count": 78,
     "metadata": {},
     "output_type": "execute_result"
    }
   ],
   "source": [
    "list(df[df[\"code\"] == \"FRBES\"][\"input\"].apply(lambda x: x.replace(\" \", \"\")).unique())"
   ]
  }
 ],
 "metadata": {
  "kernelspec": {
   "display_name": "Python 3",
   "language": "python",
   "name": "python3"
  },
  "language_info": {
   "codemirror_mode": {
    "name": "ipython",
    "version": 3
   },
   "file_extension": ".py",
   "mimetype": "text/x-python",
   "name": "python",
   "nbconvert_exporter": "python",
   "pygments_lexer": "ipython3",
   "version": "3.6.9"
  }
 },
 "nbformat": 4,
 "nbformat_minor": 2
}
