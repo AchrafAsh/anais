{
 "cells": [
  {
   "cell_type": "code",
   "execution_count": 1,
   "metadata": {},
   "outputs": [],
   "source": [
    "from models.knn import KNN\n",
    "from models.linear import Linear\n",
    "from models.naive_bayes import NaiveBayes\n",
    "from models.word2vec import W2V\n",
    "\n",
    "from src.criterion import get_recall, best_k\n",
    "from src.data import get_train_test_split, regexp_processing, get_sentences\n",
    "\n",
    "from src.constants import constants\n",
    "CLASSES = constants[\"classes\"]"
   ]
  },
  {
   "cell_type": "code",
   "execution_count": 2,
   "metadata": {},
   "outputs": [],
   "source": [
    "train, test = get_train_test_split()\n",
    "train_proc, test_proc = get_train_test_split(transform=regexp_processing)\n",
    "sentences = get_sentences()"
   ]
  },
  {
   "cell_type": "markdown",
   "metadata": {},
   "source": [
    "## KNN\n",
    "---"
   ]
  },
  {
   "cell_type": "code",
   "execution_count": 13,
   "metadata": {},
   "outputs": [],
   "source": [
    "knn_model = KNN(k=3, classes=CLASSES)\n",
    "knn_model.fit(train_proc)"
   ]
  },
  {
   "cell_type": "code",
   "execution_count": 15,
   "metadata": {},
   "outputs": [
    {
     "name": "stdout",
     "output_type": "stream",
     "text": [
      "Recall @1,2,3 - (0.84, 0.92, 0.98)\n"
     ]
    }
   ],
   "source": [
    "print(f\"Recall @1,2,3 - {get_recall(knn_model, test)}\")"
   ]
  },
  {
   "cell_type": "markdown",
   "metadata": {},
   "source": [
    "## Naive Bayes\n",
    "---"
   ]
  },
  {
   "cell_type": "code",
   "execution_count": 19,
   "metadata": {
    "scrolled": false
   },
   "outputs": [
    {
     "name": "stderr",
     "output_type": "stream",
     "text": [
      "100%|██████████| 198/198 [00:00<00:00, 747.72it/s]\n"
     ]
    }
   ],
   "source": [
    "naive_bayes_model = NaiveBayes(n=2, classes=CLASSES)\n",
    "naive_bayes_model.fit(train)"
   ]
  },
  {
   "cell_type": "code",
   "execution_count": 21,
   "metadata": {},
   "outputs": [
    {
     "name": "stdout",
     "output_type": "stream",
     "text": [
      "Recall @1,2,3 - (0.74, 0.76, 0.8)\n"
     ]
    }
   ],
   "source": [
    "print(f\"Recall @1,2,3 - {get_recall(naive_bayes_model, test)}\")"
   ]
  },
  {
   "cell_type": "code",
   "execution_count": 5,
   "metadata": {},
   "outputs": [
    {
     "name": "stderr",
     "output_type": "stream",
     "text": [
      "100%|██████████| 50/50 [00:00<00:00, 1324.18it/s]"
     ]
    },
    {
     "name": "stdout",
     "output_type": "stream",
     "text": [
      "Accuracy: 0.66 | Errors: 17\n"
     ]
    },
    {
     "name": "stderr",
     "output_type": "stream",
     "text": [
      "\n"
     ]
    },
    {
     "data": {
      "text/plain": [
       "(0.66,\n",
       " [('BAL', 'NLRTM', 'FRSML'),\n",
       "  ('BREST DRYDOCK#2', 'FRBES', 'FRSML'),\n",
       "  ('ES  SDR', 'ESSDR', 'FRSML'),\n",
       "  ('DUKIRK, FRANCE', 'FRIRK', 'FRBOD'),\n",
       "  ('FROM GBSOU TO ESSDR', 'ESSDR', 'FRSML'),\n",
       "  ('ES SDR', 'ESSDR', 'FRSML'),\n",
       "  ('DUNKERQUE', 'FRIRK', 'FRSML'),\n",
       "  ('FR NTE', 'NLRTM', 'FRSML'),\n",
       "  ('FR DON', 'BEANR', 'FRBOD'),\n",
       "  ('FR NTE', 'NLRTM', 'FRSML'),\n",
       "  ('TRGEB', 'FRLEH', 'FRSML'),\n",
       "  ('ESSDR', 'ESSDR', 'FRSML'),\n",
       "  ('RU PRI', 'FRBOD', 'FRSML'),\n",
       "  ('SANTANDER SPAIN', 'ESSDR', 'FRSML'),\n",
       "  ('DUNKIRK,FRANCE', 'FRIRK', 'FRBOD'),\n",
       "  ('IT PVE', 'BEANR', 'FRSML'),\n",
       "  ('SANTANDER, SPAIN', 'ESSDR', 'FRSML')])"
      ]
     },
     "execution_count": 5,
     "metadata": {},
     "output_type": "execute_result"
    }
   ],
   "source": [
    "naive_bayes_model.eval(test_proc)"
   ]
  },
  {
   "cell_type": "markdown",
   "metadata": {},
   "source": [
    "## Linear Model\n",
    "---"
   ]
  },
  {
   "cell_type": "code",
   "execution_count": 175,
   "metadata": {},
   "outputs": [
    {
     "name": "stdout",
     "output_type": "stream",
     "text": [
      "Epoch: 1/8 | Accuracy: 0.5303030303030303 | Loss: 129.32166262610767\n",
      "Epoch: 2/8 | Accuracy: 0.8282828282828283 | Loss: 49.657216363392585\n",
      "Epoch: 3/8 | Accuracy: 0.9444444444444444 | Loss: 27.3234969372022\n",
      "Epoch: 4/8 | Accuracy: 0.9747474747474747 | Loss: 16.434916216722502\n",
      "Epoch: 5/8 | Accuracy: 0.9797979797979798 | Loss: 10.877555663510917\n",
      "Epoch: 6/8 | Accuracy: 0.98989898989899 | Loss: 7.621654572660742\n",
      "Epoch: 7/8 | Accuracy: 1.0 | Loss: 5.541417559193727\n",
      "Epoch: 8/8 | Accuracy: 1.0 | Loss: 4.147147291845609\n"
     ]
    },
    {
     "data": {
      "text/plain": [
       "([129.32166262610767,\n",
       "  49.657216363392585,\n",
       "  27.3234969372022,\n",
       "  16.434916216722502,\n",
       "  10.877555663510917,\n",
       "  7.621654572660742,\n",
       "  5.541417559193727,\n",
       "  4.147147291845609],\n",
       " [0.5303030303030303,\n",
       "  0.8282828282828283,\n",
       "  0.9444444444444444,\n",
       "  0.9747474747474747,\n",
       "  0.9797979797979798,\n",
       "  0.98989898989899,\n",
       "  1.0,\n",
       "  1.0])"
      ]
     },
     "execution_count": 175,
     "metadata": {},
     "output_type": "execute_result"
    }
   ],
   "source": [
    "lm = Linear(classes=CLASSES, max_len=32)\n",
    "lm.fit(train, epochs=8)"
   ]
  },
  {
   "cell_type": "code",
   "execution_count": 176,
   "metadata": {},
   "outputs": [
    {
     "name": "stdout",
     "output_type": "stream",
     "text": [
      "Recall @1,2,3 - (0.74, 0.8, 0.84)\n"
     ]
    }
   ],
   "source": [
    "print(f\"Recall @1,2,3 - {get_recall(lm, test)}\")"
   ]
  },
  {
   "cell_type": "markdown",
   "metadata": {},
   "source": [
    "## Word2Vec\n",
    "---"
   ]
  },
  {
   "cell_type": "code",
   "execution_count": 22,
   "metadata": {},
   "outputs": [],
   "source": [
    "w2v = W2V(classes=CLASSES)\n",
    "w2v.fit(sentences)"
   ]
  },
  {
   "cell_type": "code",
   "execution_count": 24,
   "metadata": {},
   "outputs": [
    {
     "name": "stdout",
     "output_type": "stream",
     "text": [
      "Recall @1,2,3 - (0.18, 0.28, 0.48)\n"
     ]
    }
   ],
   "source": [
    "print(f\"Recall @1,2,3 - {get_recall(w2v, test)}\")"
   ]
  },
  {
   "cell_type": "code",
   "execution_count": 28,
   "metadata": {},
   "outputs": [
    {
     "name": "stdout",
     "output_type": "stream",
     "text": [
      "Recall @1,2,3 - (0.2, 0.28, 0.48)\n"
     ]
    }
   ],
   "source": [
    "print(f\"Recall @1,2,3 - {get_recall(w2v, test_proc)}\")"
   ]
  }
 ],
 "metadata": {
  "kernelspec": {
   "display_name": "pytorch",
   "language": "python",
   "name": "pytorch"
  },
  "language_info": {
   "codemirror_mode": {
    "name": "ipython",
    "version": 3
   },
   "file_extension": ".py",
   "mimetype": "text/x-python",
   "name": "python",
   "nbconvert_exporter": "python",
   "pygments_lexer": "ipython3",
   "version": "3.6.10"
  }
 },
 "nbformat": 4,
 "nbformat_minor": 2
}
