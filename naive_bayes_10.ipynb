{
 "cells": [
  {
   "cell_type": "code",
   "execution_count": 1,
   "metadata": {},
   "outputs": [],
   "source": [
    "import string\n",
    "import numpy as np\n",
    "import pandas as pd\n",
    "from data import get_train_test_split\n",
    "from models.utils import damerau_levenshtein_distance, regexp_processing\n",
    "from tqdm import tqdm\n",
    "from collections import Counter\n",
    "from itertools import product\n",
    "\n",
    "import seaborn as sns"
   ]
  },
  {
   "cell_type": "code",
   "execution_count": 2,
   "metadata": {},
   "outputs": [],
   "source": [
    "def create_ngram(n=2):\n",
    "    combs = product(string.ascii_lowercase, repeat=n)\n",
    "    ngrams = []\n",
    "    for el in combs:\n",
    "        ngrams.append(\"\".join(el))\n",
    "    \n",
    "    return ngrams"
   ]
  },
  {
   "cell_type": "code",
   "execution_count": 3,
   "metadata": {},
   "outputs": [],
   "source": [
    "class NaiveBayes:\n",
    "    def __init__(self, n_gram, classes):\n",
    "        \"\"\"\n",
    "        Args:\n",
    "            n (int)\n",
    "        \"\"\"\n",
    "        self.ngrams = create_ngram(n_gram)\n",
    "        self.probs = pd.DataFrame(1, index=np.arange(len(self.ngrams)).tolist(), columns=classes)\n",
    "        self.classes = classes\n",
    "        self.y_prob = {}\n",
    "        for label in classes: self.y_prob[label] = 0\n",
    "    \n",
    "    def fit(self, dataset):\n",
    "        total_grams_per_class = {}\n",
    "        for label in self.classes: total_grams_per_class[label] = 0\n",
    "        \n",
    "        for idx in tqdm(range(len(dataset))):\n",
    "            text = dataset.iloc[idx][\"destination\"]\n",
    "            target = dataset.iloc[idx][\"code\"]\n",
    "            \n",
    "            self.y_prob[target] += 1\n",
    "            total_grams_per_class[target] += 1\n",
    "            \n",
    "            for idx in range(len(self.ngrams)):\n",
    "                if self.ngrams[idx] in text.lower(): self.probs.loc[idx, target] += 1\n",
    "        \n",
    "        # divide by the total number of word for each column\n",
    "        for target in self.classes:\n",
    "            self.probs[target] /= total_grams_per_class[target] * len(self.ngrams)\n",
    "            self.y_prob[target] /= sum(self.y_prob.values())\n",
    "    \n",
    "    def predict(self, text):\n",
    "        pred_targets = {}\n",
    "        for label in self.classes: pred_targets[label] = 1\n",
    "        \n",
    "        for idx in range(len(self.ngrams)):\n",
    "            if self.ngrams[idx] in text.lower():\n",
    "                for label in self.classes:\n",
    "                    pred_targets[label] *= self.y_prob[label] * self.probs.loc[idx, label]\n",
    "        \n",
    "        return pred_targets\n",
    "    \n",
    "    def evaluate(self, dataset):\n",
    "        accuracy = 0\n",
    "        errors = []\n",
    "\n",
    "        for idx in tqdm(range(len(dataset))):\n",
    "            text = dataset.iloc[idx][\"destination\"]\n",
    "            target = dataset.iloc[idx][\"code\"]\n",
    "\n",
    "            preds = model(text)\n",
    "            label = max(preds, key=preds.get)\n",
    "\n",
    "            if label == target: accuracy += 1\n",
    "            else: errors.append((text, target, label))\n",
    "\n",
    "\n",
    "        accuracy = accuracy / len(dataset)\n",
    "        print(f\"Accuracy: {accuracy} | Errors: {len(errors)}\")\n",
    "\n",
    "        return accuracy, errors\n",
    "    \n",
    "    def __call__(self, text): return self.predict(text)"
   ]
  },
  {
   "cell_type": "code",
   "execution_count": 4,
   "metadata": {},
   "outputs": [
    {
     "name": "stdout",
     "output_type": "stream",
     "text": [
      "{'SEED': 42}\n"
     ]
    }
   ],
   "source": [
    "train_df, test_df = get_train_test_split(\"10_ports.csv\", transform=regexp_processing)"
   ]
  },
  {
   "cell_type": "code",
   "execution_count": 6,
   "metadata": {},
   "outputs": [],
   "source": [
    "classes = ['FRBES','ESSDR','NLRTM','BEANR','FRLEH',\n",
    "           'FRSML','ESBIO','FRMTX','FRIRK','FRBOD']"
   ]
  },
  {
   "cell_type": "code",
   "execution_count": 8,
   "metadata": {},
   "outputs": [
    {
     "name": "stderr",
     "output_type": "stream",
     "text": [
      "100%|██████████| 198/198 [00:00<00:00, 791.03it/s]\n",
      "100%|██████████| 50/50 [00:00<00:00, 1405.98it/s]\n",
      " 40%|████      | 80/198 [00:00<00:00, 796.25it/s]"
     ]
    },
    {
     "name": "stdout",
     "output_type": "stream",
     "text": [
      "Accuracy: 0.14 | Errors: 43\n"
     ]
    },
    {
     "name": "stderr",
     "output_type": "stream",
     "text": [
      "100%|██████████| 198/198 [00:00<00:00, 790.17it/s]\n",
      "100%|██████████| 50/50 [00:00<00:00, 1233.07it/s]\n",
      " 37%|███▋      | 74/198 [00:00<00:00, 361.29it/s]"
     ]
    },
    {
     "name": "stdout",
     "output_type": "stream",
     "text": [
      "Accuracy: 0.48 | Errors: 26\n"
     ]
    },
    {
     "name": "stderr",
     "output_type": "stream",
     "text": [
      "100%|██████████| 198/198 [00:00<00:00, 346.44it/s]\n",
      "100%|██████████| 50/50 [00:00<00:00, 385.62it/s]\n",
      "  0%|          | 0/198 [00:00<?, ?it/s]"
     ]
    },
    {
     "name": "stdout",
     "output_type": "stream",
     "text": [
      "Accuracy: 0.5 | Errors: 25\n"
     ]
    },
    {
     "name": "stderr",
     "output_type": "stream",
     "text": [
      "100%|██████████| 198/198 [00:10<00:00, 18.81it/s]\n",
      "100%|██████████| 50/50 [00:02<00:00, 19.24it/s]"
     ]
    },
    {
     "name": "stdout",
     "output_type": "stream",
     "text": [
      "Accuracy: 0.38 | Errors: 31\n"
     ]
    },
    {
     "name": "stderr",
     "output_type": "stream",
     "text": [
      "\n"
     ]
    }
   ],
   "source": [
    "ngrams_grid = np.arange(1,5)\n",
    "accuracies = []\n",
    "\n",
    "for n in ngrams_grid:\n",
    "    model = NaiveBayes(n, classes)\n",
    "    model.fit(train_df)\n",
    "    \n",
    "    accuracy, _ = model.evaluate(test_df)\n",
    "    accuracies.append(accuracy)"
   ]
  },
  {
   "cell_type": "code",
   "execution_count": 9,
   "metadata": {},
   "outputs": [
    {
     "name": "stderr",
     "output_type": "stream",
     "text": [
      "/home/achraf/.local/lib/python3.6/site-packages/seaborn/_decorators.py:43: FutureWarning: Pass the following variables as keyword args: x, y. From version 0.12, the only valid positional argument will be `data`, and passing other arguments without an explicit keyword will result in an error or misinterpretation.\n",
      "  FutureWarning\n"
     ]
    },
    {
     "data": {
      "text/plain": [
       "[Text(0.5, 1.0, 'Accuracy'), Text(0.5, 0, 'N-gram'), Text(0, 0.5, 'Accuracy')]"
      ]
     },
     "execution_count": 9,
     "metadata": {},
     "output_type": "execute_result"
    },
    {
     "data": {
      "image/png": "[encoded data removed]",
      "text/plain": [
       "<Figure size 432x288 with 1 Axes>"
      ]
     },
     "metadata": {
      "needs_background": "light"
     },
     "output_type": "display_data"
    }
   ],
   "source": [
    "sns.lineplot(ngrams_grid, accuracies).set(title=\"Accuracy\", xlabel=\"N-gram\", ylabel=\"Accuracy\")"
   ]
  }
 ],
 "metadata": {
  "kernelspec": {
   "display_name": "pytorch",
   "language": "python",
   "name": "pytorch"
  },
  "language_info": {
   "codemirror_mode": {
    "name": "ipython",
    "version": 3
   },
   "file_extension": ".py",
   "mimetype": "text/x-python",
   "name": "python",
   "nbconvert_exporter": "python",
   "pygments_lexer": "ipython3",
   "version": "3.6.10"
  }
 },
 "nbformat": 4,
 "nbformat_minor": 2
}
