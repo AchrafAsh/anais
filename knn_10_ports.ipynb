{
 "cells": [
  {
   "cell_type": "markdown",
   "metadata": {},
   "source": [
    "### TODO\n",
    "- [ ] Make the model case unsensitive\n",
    "- [ ] Clean the code"
   ]
  },
  {
   "cell_type": "code",
   "execution_count": 120,
   "metadata": {},
   "outputs": [],
   "source": [
    "import numpy as np\n",
    "import pandas as pd\n",
    "from data import get_train_test_split\n",
    "from models.utils import damerau_levenshtein_distance, regexp_processing\n",
    "from tqdm import tqdm\n",
    "from collections import Counter\n",
    "\n",
    "import seaborn as sns"
   ]
  },
  {
   "cell_type": "code",
   "execution_count": 121,
   "metadata": {},
   "outputs": [],
   "source": [
    "class KNN:\n",
    "    def __init__(self, k, classes):\n",
    "        \"\"\"\n",
    "        Args:\n",
    "            k (int): number of nearst neighbours to consider\n",
    "            classes (list): list of output classes\n",
    "        \"\"\"\n",
    "        self.k = k\n",
    "        self.destinations = {}\n",
    "        self.classes = {label: 0 for label in classes}\n",
    "    \n",
    "    def fit(self, dataset):\n",
    "        for i in range(len(dataset)):\n",
    "            self.destinations[dataset.iloc[i][\"destination\"]] = dataset.iloc[i][\"code\"]\n",
    "    \n",
    "    def eval(self, dataset):\n",
    "        \"\"\"Evaluates the model on dataset\n",
    "        \n",
    "        Args:\n",
    "            dataset (DataFrame): needs to have columns \"destination\" and \"code\" (i.e label)\n",
    "        \n",
    "        Returns:\n",
    "            accuracy (float): the percentage of correct labels\n",
    "        \"\"\"\n",
    "        \n",
    "        correct = 0\n",
    "        false_preds = []\n",
    "        for i in range(len(dataset)):\n",
    "            text = dataset.iloc[i][\"destination\"]\n",
    "            label = dataset.iloc[i][\"code\"]\n",
    "            pred,_,_ = self(text)\n",
    "            if pred == label: correct += 1\n",
    "            else: false_preds.append((text, pred, label))\n",
    "\n",
    "        return correct / len(dataset), false_preds\n",
    "    \n",
    "    @staticmethod\n",
    "    def max_distance(text, elements):\n",
    "        \"\"\"Find the farthest element and returns its index\n",
    "        Args:\n",
    "            text (str): text to consider\n",
    "            elements (double<str>): (destination, label)\n",
    "        \n",
    "        Returns:\n",
    "            int: index of the farthest element\n",
    "        \"\"\"\n",
    "        max_idx = 0\n",
    "        max_distance = damerau_levenshtein_distance(text, elements[0][0])\n",
    "        for i in range(1, len(elements)):\n",
    "            if damerau_levenshtein_distance(text, elements[i][0]) > max_distance: \n",
    "                max_idx = i\n",
    "                max_distance = damerau_levenshtein_distance(text, elements[i][0])\n",
    "        return max_idx\n",
    "\n",
    "    @staticmethod\n",
    "    def alt_softmax(counter):\n",
    "        denominator = sum([np.exp(y)*y for y in counter.values()])\n",
    "        for key in counter.keys():\n",
    "            counter[key] = np.exp(counter[key])*counter[key] / denominator\n",
    "        \n",
    "        return counter\n",
    "    \n",
    "    \n",
    "    def __call__(self, text):\n",
    "        \"\"\"Classify text with the most common label amongst k-nearest neighbours\n",
    "        \n",
    "        Args:\n",
    "            text (str): text to label\n",
    "        \n",
    "        Returns:\n",
    "            label(str): the predicted label\n",
    "            nearest_neighbours (list): list of k-nearest neighbours (from the training data)\n",
    "        \"\"\"\n",
    "        \n",
    "        nearest_neighbours = []\n",
    "        for destination, label in self.destinations.items():\n",
    "            if len(nearest_neighbours) < self.k: nearest_neighbours.append((destination, label))\n",
    "            else:\n",
    "                worst_neighbour_idx = self.max_distance(text, nearest_neighbours)\n",
    "                nearest_neighbours[worst_neighbour_idx] = (destination, label)\n",
    "        \n",
    "        # find the best label\n",
    "        label_counts = Counter([nn[1] for nn in nearest_neighbours])\n",
    "        \n",
    "        label_counts = self.alt_softmax(label_counts)\n",
    "        for label in self.classes.keys():\n",
    "            self.classes[label] = label_counts[label]\n",
    "        \n",
    "        return label_counts.most_common()[0][0], self.classes, nearest_neighbours"
   ]
  },
  {
   "cell_type": "code",
   "execution_count": 122,
   "metadata": {},
   "outputs": [],
   "source": [
    "train, test = get_train_test_split(\"10_ports.csv\")"
   ]
  },
  {
   "cell_type": "code",
   "execution_count": 123,
   "metadata": {},
   "outputs": [],
   "source": [
    "classes = train[\"code\"].unique().tolist()"
   ]
  },
  {
   "cell_type": "code",
   "execution_count": 124,
   "metadata": {},
   "outputs": [],
   "source": [
    "model = KNN(k=4, classes=classes)"
   ]
  },
  {
   "cell_type": "code",
   "execution_count": 125,
   "metadata": {},
   "outputs": [],
   "source": [
    "model.fit(train)"
   ]
  },
  {
   "cell_type": "code",
   "execution_count": 87,
   "metadata": {
    "scrolled": true
   },
   "outputs": [
    {
     "data": {
      "text/plain": [
       "(0.92,\n",
       " [('ST.MALO/FRANCE.', 'FRBES', 'FRSML'),\n",
       "  ('FRBOD', 'FRMTX', 'FRBOD'),\n",
       "  ('FR BES > PT LEI', 'FRMTX', 'FRBES'),\n",
       "  ('FR DON > FR LEH', 'FRMTX', 'FRLEH')])"
      ]
     },
     "execution_count": 87,
     "metadata": {},
     "output_type": "execute_result"
    }
   ],
   "source": [
    "model.eval(test)"
   ]
  },
  {
   "cell_type": "code",
   "execution_count": 88,
   "metadata": {
    "scrolled": false
   },
   "outputs": [
    {
     "data": {
      "text/plain": [
       "('NLRTM',\n",
       " {'FRBES': 0,\n",
       "  'ESSDR': 0.13447071068499755,\n",
       "  'NLRTM': 0.7310585786300049,\n",
       "  'BEANR': 0,\n",
       "  'FRLEH': 0,\n",
       "  'FRSML': 0,\n",
       "  'ESBIO': 0,\n",
       "  'FRMTX': 0.13447071068499755,\n",
       "  'FRIRK': 0,\n",
       "  'FRBOD': 0},\n",
       " [('ROTTERAM', 'NLRTM'),\n",
       "  ('MONTOIR  FRANCE', 'FRMTX'),\n",
       "  ('SANTANDER', 'ESSDR'),\n",
       "  ('ROTTERDAM', 'NLRTM')])"
      ]
     },
     "execution_count": 88,
     "metadata": {},
     "output_type": "execute_result"
    }
   ],
   "source": [
    "model(\"Rotterdam\")"
   ]
  },
  {
   "cell_type": "code",
   "execution_count": 91,
   "metadata": {},
   "outputs": [
    {
     "name": "stderr",
     "output_type": "stream",
     "text": [
      "100%|██████████| 6/6 [00:27<00:00,  4.65s/it]\n"
     ]
    },
    {
     "data": {
      "text/plain": [
       "[Text(0.5, 1.0, 'Accuracy'),\n",
       " Text(0.5, 0, 'k parameter'),\n",
       " Text(0, 0.5, 'Accuracy')]"
      ]
     },
     "execution_count": 91,
     "metadata": {},
     "output_type": "execute_result"
    },
    {
     "data": {
      "image/png": "[encoded data removed]",
      "text/plain": [
       "<Figure size 432x288 with 1 Axes>"
      ]
     },
     "metadata": {
      "needs_background": "light"
     },
     "output_type": "display_data"
    }
   ],
   "source": [
    "accuracies = []\n",
    "\n",
    "for k in tqdm(range(2, 8)):\n",
    "    model = KNN(k=k, classes=classes)\n",
    "    model.fit(train)\n",
    "    acc,_ = model.eval(test)\n",
    "    \n",
    "    accuracies.append(acc)\n",
    "\n",
    "sns.lineplot(x=range(2,8), y=accuracies).set(title=\"Accuracy\", xlabel=\"k parameter\", ylabel=\"Accuracy\")"
   ]
  },
  {
   "cell_type": "code",
   "execution_count": 7,
   "metadata": {
    "scrolled": true
   },
   "outputs": [
    {
     "name": "stderr",
     "output_type": "stream",
     "text": [
      "  0%|          | 0/6 [00:00<?, ?it/s]\n",
      "100%|██████████| 198/198 [00:00<00:00, 4292.71it/s]\n",
      "\n",
      "  0%|          | 0/50 [00:00<?, ?it/s]\u001b[A\n",
      " 10%|█         | 5/50 [00:00<00:00, 46.40it/s]\u001b[A\n",
      " 22%|██▏       | 11/50 [00:00<00:00, 45.91it/s]\u001b[A\n",
      " 32%|███▏      | 16/50 [00:00<00:00, 43.24it/s]\u001b[A\n",
      " 38%|███▊      | 19/50 [00:00<00:00, 37.43it/s]\u001b[A\n",
      " 46%|████▌     | 23/50 [00:00<00:00, 33.61it/s]\u001b[A\n",
      " 56%|█████▌    | 28/50 [00:00<00:00, 36.93it/s]\u001b[A\n",
      " 66%|██████▌   | 33/50 [00:00<00:00, 39.39it/s]\u001b[A\n",
      " 74%|███████▍  | 37/50 [00:00<00:00, 39.44it/s]\u001b[A\n",
      " 84%|████████▍ | 42/50 [00:01<00:00, 41.81it/s]\u001b[A\n",
      "100%|██████████| 50/50 [00:01<00:00, 39.59it/s]\u001b[A\n",
      " 17%|█▋        | 1/6 [00:01<00:06,  1.31s/it]\n",
      "100%|██████████| 198/198 [00:00<00:00, 4419.07it/s]\n",
      "\n",
      "  0%|          | 0/50 [00:00<?, ?it/s]\u001b[A\n",
      "  8%|▊         | 4/50 [00:00<00:01, 33.56it/s]\u001b[A\n",
      " 16%|█▌        | 8/50 [00:00<00:01, 31.41it/s]\u001b[A\n",
      " 24%|██▍       | 12/50 [00:00<00:01, 33.52it/s]\u001b[A\n",
      " 32%|███▏      | 16/50 [00:00<00:01, 29.23it/s]\u001b[A\n",
      " 38%|███▊      | 19/50 [00:00<00:01, 24.64it/s]\u001b[A\n",
      " 44%|████▍     | 22/50 [00:00<00:01, 23.36it/s]\u001b[A\n",
      " 50%|█████     | 25/50 [00:01<00:01, 21.52it/s]\u001b[A\n",
      " 58%|█████▊    | 29/50 [00:01<00:00, 23.24it/s]\u001b[A\n",
      " 68%|██████▊   | 34/50 [00:01<00:00, 25.17it/s]\u001b[A\n",
      " 76%|███████▌  | 38/50 [00:01<00:00, 28.04it/s]\u001b[A\n",
      " 84%|████████▍ | 42/50 [00:01<00:00, 30.45it/s]\u001b[A\n",
      " 92%|█████████▏| 46/50 [00:01<00:00, 31.55it/s]\u001b[A\n",
      "100%|██████████| 50/50 [00:01<00:00, 27.11it/s]\u001b[A\n",
      " 33%|███▎      | 2/6 [00:03<00:05,  1.49s/it]\n",
      "100%|██████████| 198/198 [00:00<00:00, 4364.61it/s]\n",
      "\n",
      "  0%|          | 0/50 [00:00<?, ?it/s]\u001b[A\n",
      "  6%|▌         | 3/50 [00:00<00:01, 26.28it/s]\u001b[A\n",
      " 10%|█         | 5/50 [00:00<00:01, 23.07it/s]\u001b[A\n",
      " 16%|█▌        | 8/50 [00:00<00:01, 23.62it/s]\u001b[A\n",
      " 22%|██▏       | 11/50 [00:00<00:01, 24.52it/s]\u001b[A\n",
      " 28%|██▊       | 14/50 [00:00<00:01, 22.73it/s]\u001b[A\n",
      " 32%|███▏      | 16/50 [00:00<00:01, 20.22it/s]\u001b[A\n",
      " 36%|███▌      | 18/50 [00:00<00:01, 17.08it/s]\u001b[A\n",
      " 42%|████▏     | 21/50 [00:01<00:01, 17.02it/s]\u001b[A\n",
      " 46%|████▌     | 23/50 [00:01<00:01, 15.06it/s]\u001b[A\n",
      " 50%|█████     | 25/50 [00:01<00:01, 15.79it/s]\u001b[A\n",
      " 56%|█████▌    | 28/50 [00:01<00:01, 18.16it/s]\u001b[A\n",
      " 60%|██████    | 30/50 [00:01<00:01, 16.26it/s]\u001b[A\n",
      " 68%|██████▊   | 34/50 [00:01<00:00, 18.33it/s]\u001b[A\n",
      " 74%|███████▍  | 37/50 [00:01<00:00, 19.77it/s]\u001b[A\n",
      " 80%|████████  | 40/50 [00:01<00:00, 21.87it/s]\u001b[A\n",
      " 90%|█████████ | 45/50 [00:02<00:00, 25.90it/s]\u001b[A\n",
      "100%|██████████| 50/50 [00:02<00:00, 20.37it/s]\u001b[A\n",
      " 50%|█████     | 3/6 [00:05<00:05,  1.79s/it]\n",
      "100%|██████████| 198/198 [00:00<00:00, 4502.11it/s]\n",
      "\n",
      "  0%|          | 0/50 [00:00<?, ?it/s]\u001b[A\n",
      "  6%|▌         | 3/50 [00:00<00:02, 21.16it/s]\u001b[A\n",
      " 10%|█         | 5/50 [00:00<00:02, 19.42it/s]\u001b[A\n",
      " 16%|█▌        | 8/50 [00:00<00:02, 19.86it/s]\u001b[A\n",
      " 22%|██▏       | 11/50 [00:00<00:01, 20.51it/s]\u001b[A\n",
      " 28%|██▊       | 14/50 [00:00<00:01, 20.39it/s]\u001b[A\n",
      " 32%|███▏      | 16/50 [00:00<00:02, 16.92it/s]\u001b[A\n",
      " 36%|███▌      | 18/50 [00:01<00:02, 14.43it/s]\u001b[A\n",
      " 40%|████      | 20/50 [00:01<00:02, 14.58it/s]\u001b[A\n",
      " 44%|████▍     | 22/50 [00:01<00:02, 12.08it/s]\u001b[A\n",
      " 48%|████▊     | 24/50 [00:01<00:02, 10.42it/s]\u001b[A\n",
      " 56%|█████▌    | 28/50 [00:01<00:01, 12.61it/s]\u001b[A\n",
      " 60%|██████    | 30/50 [00:02<00:01, 12.13it/s]\u001b[A\n",
      " 68%|██████▊   | 34/50 [00:02<00:01, 14.21it/s]\u001b[A\n",
      " 74%|███████▍  | 37/50 [00:02<00:00, 15.74it/s]\u001b[A\n",
      " 80%|████████  | 40/50 [00:02<00:00, 17.50it/s]\u001b[A\n",
      " 88%|████████▊ | 44/50 [00:02<00:00, 20.87it/s]\u001b[A\n",
      " 94%|█████████▍| 47/50 [00:02<00:00, 18.04it/s]\u001b[A\n",
      "100%|██████████| 50/50 [00:03<00:00, 16.66it/s]\u001b[A\n",
      " 67%|██████▋   | 4/6 [00:08<00:04,  2.17s/it]\n",
      "100%|██████████| 198/198 [00:00<00:00, 4358.82it/s]\n",
      "\n",
      "  0%|          | 0/50 [00:00<?, ?it/s]\u001b[A\n",
      "  6%|▌         | 3/50 [00:00<00:02, 20.20it/s]\u001b[A\n",
      " 10%|█         | 5/50 [00:00<00:02, 17.61it/s]\u001b[A\n",
      " 16%|█▌        | 8/50 [00:00<00:02, 17.21it/s]\u001b[A\n",
      " 22%|██▏       | 11/50 [00:00<00:02, 17.42it/s]\u001b[A\n",
      " 28%|██▊       | 14/50 [00:00<00:02, 17.13it/s]\u001b[A\n",
      " 32%|███▏      | 16/50 [00:01<00:02, 14.65it/s]\u001b[A\n",
      " 36%|███▌      | 18/50 [00:01<00:02, 12.82it/s]\u001b[A\n",
      " 40%|████      | 20/50 [00:01<00:02, 13.45it/s]\u001b[A\n",
      " 44%|████▍     | 22/50 [00:01<00:02, 11.09it/s]\u001b[A\n",
      " 48%|████▊     | 24/50 [00:01<00:02,  9.66it/s]\u001b[A\n",
      " 56%|█████▌    | 28/50 [00:02<00:01, 11.60it/s]\u001b[A\n",
      " 60%|██████    | 30/50 [00:02<00:01, 10.67it/s]\u001b[A\n",
      " 68%|██████▊   | 34/50 [00:02<00:01, 12.35it/s]\u001b[A\n",
      " 74%|███████▍  | 37/50 [00:02<00:00, 13.85it/s]\u001b[A\n",
      " 80%|████████  | 40/50 [00:02<00:00, 15.13it/s]\u001b[A\n",
      " 88%|████████▊ | 44/50 [00:02<00:00, 18.21it/s]\u001b[A\n",
      " 94%|█████████▍| 47/50 [00:03<00:00, 16.20it/s]\u001b[A\n",
      "100%|██████████| 50/50 [00:03<00:00, 14.65it/s]\u001b[A\n",
      " 83%|████████▎ | 5/6 [00:12<00:02,  2.56s/it]\n",
      "100%|██████████| 198/198 [00:00<00:00, 4351.26it/s]\n",
      "\n",
      "  0%|          | 0/50 [00:00<?, ?it/s]\u001b[A\n",
      "  6%|▌         | 3/50 [00:00<00:02, 17.51it/s]\u001b[A\n",
      " 10%|█         | 5/50 [00:00<00:02, 15.08it/s]\u001b[A\n",
      " 16%|█▌        | 8/50 [00:00<00:02, 15.13it/s]\u001b[A\n",
      " 22%|██▏       | 11/50 [00:00<00:02, 14.93it/s]\u001b[A\n",
      " 28%|██▊       | 14/50 [00:00<00:02, 14.96it/s]\u001b[A\n",
      " 32%|███▏      | 16/50 [00:01<00:02, 13.14it/s]\u001b[A\n",
      " 36%|███▌      | 18/50 [00:01<00:02, 11.24it/s]\u001b[A\n",
      " 40%|████      | 20/50 [00:01<00:02, 11.94it/s]\u001b[A\n",
      " 44%|████▍     | 22/50 [00:01<00:02, 10.14it/s]\u001b[A\n",
      " 48%|████▊     | 24/50 [00:02<00:02,  8.72it/s]\u001b[A\n",
      " 54%|█████▍    | 27/50 [00:02<00:02, 11.04it/s]\u001b[A\n",
      " 58%|█████▊    | 29/50 [00:02<00:02, 10.11it/s]\u001b[A\n",
      " 62%|██████▏   | 31/50 [00:02<00:01, 11.26it/s]\u001b[A\n",
      " 68%|██████▊   | 34/50 [00:02<00:01, 12.04it/s]\u001b[A\n",
      " 74%|███████▍  | 37/50 [00:02<00:00, 13.19it/s]\u001b[A\n",
      " 78%|███████▊  | 39/50 [00:03<00:00, 14.51it/s]\u001b[A\n",
      " 82%|████████▏ | 41/50 [00:03<00:00, 15.69it/s]\u001b[A\n",
      " 90%|█████████ | 45/50 [00:03<00:00, 18.26it/s]\u001b[A\n",
      " 96%|█████████▌| 48/50 [00:03<00:00, 15.02it/s]\u001b[A\n",
      "100%|██████████| 50/50 [00:03<00:00, 12.99it/s]\u001b[A\n",
      "100%|██████████| 6/6 [00:16<00:00,  2.69s/it]\n"
     ]
    },
    {
     "data": {
      "text/plain": [
       "[Text(0.5, 1.0, 'Accuracy'),\n",
       " Text(0.5, 0, 'k parameter'),\n",
       " Text(0, 0.5, 'Accuracy')]"
      ]
     },
     "execution_count": 7,
     "metadata": {},
     "output_type": "execute_result"
    },
    {
     "data": {
      "image/png": "[encoded data removed]",
      "text/plain": [
       "<Figure size 432x288 with 1 Axes>"
      ]
     },
     "metadata": {
      "needs_background": "light"
     },
     "output_type": "display_data"
    }
   ],
   "source": [
    "## SAME BUT WITH PROCESSED DATA\n",
    "\n",
    "train_df, test_df = get_train_test_split(\"10_ports.csv\", transform=regexp_processing)\n",
    "\n",
    "accuracies = []\n",
    "\n",
    "for k in range(2, 8):\n",
    "    model = KNN(k=k, classes=classes)\n",
    "    model.fit(train_df)\n",
    "    acc,_ = model.eval(test_df)\n",
    "    \n",
    "    accuracies.append(acc)\n",
    "\n",
    "sns.lineplot(x=range(2,8), y=accuracies).set(title=\"Accuracy\", xlabel=\"k parameter\", ylabel=\"Accuracy\")"
   ]
  },
  {
   "cell_type": "code",
   "execution_count": 107,
   "metadata": {},
   "outputs": [
    {
     "name": "stderr",
     "output_type": "stream",
     "text": [
      "100%|██████████| 198/198 [00:15<00:00, 12.66it/s]\n"
     ]
    },
    {
     "data": {
      "text/plain": [
       "(0.9646464646464646,\n",
       " [('SE BRO > FR BOD', 'FRMTX', 'FRBOD'),\n",
       "  ('FR BOD > RU PRI', 'FRBES', 'FRBOD'),\n",
       "  ('ESBIO > NLTNZ', 'NLRTM', 'ESBIO'),\n",
       "  ('FR BOD', 'FRBES', 'FRBOD'),\n",
       "  ('FRBOD>DEHAM', 'NLRTM', 'FRBOD'),\n",
       "  ('NL RTM > FR NTE', 'FRMTX', 'NLRTM'),\n",
       "  ('ANTWERP FOR ORDERS', 'NLRTM', 'BEANR')])"
      ]
     },
     "execution_count": 107,
     "metadata": {},
     "output_type": "execute_result"
    }
   ],
   "source": [
    "model = KNN(k=4, classes=classes)\n",
    "model.fit(train)\n",
    "\n",
    "correct = 0\n",
    "false_preds = []\n",
    "for i in tqdm(range(len(train))):\n",
    "    text = train.iloc[i][\"destination\"]\n",
    "    label = train.iloc[i][\"code\"]\n",
    "    pred,_,_ = model(text)\n",
    "    if pred == label: correct += 1\n",
    "    else: false_preds.append((text, pred, label))\n",
    "\n",
    "(correct / len(train), false_preds)"
   ]
  },
  {
   "cell_type": "code",
   "execution_count": 128,
   "metadata": {},
   "outputs": [
    {
     "data": {
      "text/plain": [
       "('FRBES',\n",
       " {'FRBES': 0.9568354670200037,\n",
       "  'ESSDR': 0,\n",
       "  'NLRTM': 0,\n",
       "  'BEANR': 0,\n",
       "  'FRLEH': 0,\n",
       "  'FRSML': 0,\n",
       "  'ESBIO': 0,\n",
       "  'FRMTX': 0.043164532979996256,\n",
       "  'FRIRK': 0,\n",
       "  'FRBOD': 0},\n",
       " [('FRBES', 'FRBES'),\n",
       "  ('MONTOIR  FRANCE', 'FRMTX'),\n",
       "  ('FR BES', 'FRBES'),\n",
       "  ('AMBES', 'FRBES')])"
      ]
     },
     "execution_count": 128,
     "metadata": {},
     "output_type": "execute_result"
    }
   ],
   "source": [
    "model(\"FRBES\")"
   ]
  }
 ],
 "metadata": {
  "kernelspec": {
   "display_name": "pytorch",
   "language": "python",
   "name": "pytorch"
  },
  "language_info": {
   "codemirror_mode": {
    "name": "ipython",
    "version": 3
   },
   "file_extension": ".py",
   "mimetype": "text/x-python",
   "name": "python",
   "nbconvert_exporter": "python",
   "pygments_lexer": "ipython3",
   "version": "3.6.10"
  }
 },
 "nbformat": 4,
 "nbformat_minor": 2
}
