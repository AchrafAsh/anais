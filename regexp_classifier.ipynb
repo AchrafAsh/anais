{
 "cells": [
  {
   "cell_type": "markdown",
   "metadata": {},
   "source": [
    "## Objectif\n",
    "- Automatiser l'étiquettage des données\n",
    "- Filtrer pour ne garder que les entrées qui nous intéresse"
   ]
  },
  {
   "cell_type": "code",
   "execution_count": 16,
   "metadata": {},
   "outputs": [],
   "source": [
    "import pandas as pd\n",
    "import numpy as np\n",
    "import seaborn as sn\n",
    "from datetime import datetime\n",
    "import re\n",
    "\n",
    "from utils import get_full_df"
   ]
  },
  {
   "cell_type": "code",
   "execution_count": 17,
   "metadata": {},
   "outputs": [],
   "source": [
    "df = get_full_df()"
   ]
  },
  {
   "cell_type": "code",
   "execution_count": 18,
   "metadata": {},
   "outputs": [],
   "source": [
    "port_classes = ['NLRTM','FRBES','FRLEH',\n",
    "                  'FRSML','ESSDR','FRMTX',\n",
    "                  'FRBOD','BEANR','FRIRK',\n",
    "                  'ESBIO']"
   ]
  },
  {
   "cell_type": "code",
   "execution_count": 19,
   "metadata": {},
   "outputs": [],
   "source": [
    "port_regexp = {\n",
    "    \"NLRTM\": re.compile(\"nl\\s*rtm|rotter\"),\n",
    "    \"FRBES\": re.compile(\"brest|bes\"),\n",
    "    \"FRLEH\": re.compile(\"leh|havre\"),\n",
    "    \"FRSML\": re.compile(\"malo|sml\"),\n",
    "    \"ESSDR\": re.compile(\"santand|es\\s*sdr\"),\n",
    "    \"FRMTX\": re.compile(\"montoir|mtx\"),\n",
    "    \"FRBOD\": re.compile(\"bod|bordeau\"),\n",
    "    \"BEANR\": re.compile(\"anr|antwerp\"),\n",
    "    \"FRIRK\": re.compile(\"irk|dunker\"),\n",
    "    \"ESBIO\": re.compile(\"bilbao|es\\s*bio\")    \n",
    "}"
   ]
  },
  {
   "cell_type": "code",
   "execution_count": 20,
   "metadata": {},
   "outputs": [],
   "source": [
    "def find_match(destination, regexp_dict):\n",
    "    \"\"\"Find a match in the destination\n",
    "    \n",
    "    Parameters:\n",
    "        destination (str): raw input destination\n",
    "\n",
    "    Returns:\n",
    "        str: Predicted label (port)\n",
    "    \"\"\"\n",
    "    \n",
    "    for code, pattern in regexp_dict.items():\n",
    "        if(pattern.search(destination.lower())): return code\n",
    "    return \"\""
   ]
  },
  {
   "cell_type": "code",
   "execution_count": 21,
   "metadata": {},
   "outputs": [],
   "source": [
    "def damerau_levenshtein_distance(s1, s2):\n",
    "    \"\"\"Compute the Damerau-Levenshtein distance between two given\n",
    "    strings (s1 and s2)\n",
    "    \n",
    "    Parameters:\n",
    "        s1 (str): first string\n",
    "        s2 (str): second string\n",
    "    \n",
    "    Returns:\n",
    "        int: Return the damerau levenshtein distance (number of changes)\n",
    "    \"\"\"\n",
    "    \n",
    "    d = {}\n",
    "    lenstr1 = len(s1)\n",
    "    lenstr2 = len(s2)\n",
    "    for i in range(-1,lenstr1+1):\n",
    "        d[(i,-1)] = i+1\n",
    "    for j in range(-1,lenstr2+1):\n",
    "        d[(-1,j)] = j+1\n",
    "\n",
    "    for i in range(lenstr1):\n",
    "        for j in range(lenstr2):\n",
    "            if s1[i] == s2[j]:\n",
    "                cost = 0\n",
    "            else:\n",
    "                cost = 1\n",
    "            d[(i,j)] = min(\n",
    "                           d[(i-1,j)] + 1, # deletion\n",
    "                           d[(i,j-1)] + 1, # insertion\n",
    "                           d[(i-1,j-1)] + cost, # substitution\n",
    "                          )\n",
    "            if i and j and s1[i]==s2[j-1] and s1[i-1] == s2[j]:\n",
    "                # transposition\n",
    "                d[(i,j)] = min (d[(i,j)], d[i-2,j-2] + cost)\n",
    "\n",
    "    return d[lenstr1-1,lenstr2-1]"
   ]
  },
  {
   "cell_type": "code",
   "execution_count": 22,
   "metadata": {},
   "outputs": [],
   "source": [
    "def generate_label(x):\n",
    "    \"\"\"Return the closes class with Damerau distance\n",
    "    \n",
    "    Parameters:\n",
    "        x (pandas.core.series.Series): a row of the dataframe\n",
    "    \n",
    "    Returns:\n",
    "        str: Predicted label (port)\n",
    "    \"\"\"\n",
    "    \n",
    "    raw_input = x[\"destination\"]\n",
    "    min_distance = -1\n",
    "    port = None\n",
    "    for port_index in world_port_idx:\n",
    "        distance = damerau_levenshtein_distance(raw_input, port_index)\n",
    "        if min_distance == -1: \n",
    "            min_distance = distance\n",
    "            port = port_index\n",
    "        elif min_distance > distance:\n",
    "            min_distance = distance\n",
    "            port = port_index\n",
    "    \n",
    "    if distance > 10: port = None\n",
    "    return port"
   ]
  },
  {
   "cell_type": "code",
   "execution_count": 24,
   "metadata": {},
   "outputs": [],
   "source": [
    "### Label the dataset\n",
    "\n",
    "df[\"code\"] = df.apply(\n",
    "    lambda x: find_match(x[\"destination\"], port_regexp),\n",
    "    axis=1\n",
    ")"
   ]
  },
  {
   "cell_type": "code",
   "execution_count": 25,
   "metadata": {},
   "outputs": [],
   "source": [
    "no_code_rows = df[df[\"code\"] == \"\"].index.tolist()"
   ]
  },
  {
   "cell_type": "code",
   "execution_count": 30,
   "metadata": {},
   "outputs": [
    {
     "data": {
      "text/plain": [
       "'Unlabeled rows: 2086\\n| Labeled rows: 248\\n| Total rows: 2334'"
      ]
     },
     "execution_count": 30,
     "metadata": {},
     "output_type": "execute_result"
    }
   ],
   "source": [
    "f\"\"\"Unlabeled rows: {len(no_code_rows)}\n",
    "| Labeled rows: {len(df) - len(no_code_rows)}\n",
    "| Total rows: {len(df)}\"\"\""
   ]
  },
  {
   "cell_type": "code",
   "execution_count": 31,
   "metadata": {},
   "outputs": [
    {
     "data": {
      "text/html": [
       "<div>\n",
       "<style scoped>\n",
       "    .dataframe tbody tr th:only-of-type {\n",
       "        vertical-align: middle;\n",
       "    }\n",
       "\n",
       "    .dataframe tbody tr th {\n",
       "        vertical-align: top;\n",
       "    }\n",
       "\n",
       "    .dataframe thead th {\n",
       "        text-align: right;\n",
       "    }\n",
       "</style>\n",
       "<table border=\"1\" class=\"dataframe\">\n",
       "  <thead>\n",
       "    <tr style=\"text-align: right;\">\n",
       "      <th></th>\n",
       "      <th>destination</th>\n",
       "      <th>code</th>\n",
       "    </tr>\n",
       "  </thead>\n",
       "  <tbody>\n",
       "    <tr>\n",
       "      <th>0</th>\n",
       "      <td>BREST</td>\n",
       "      <td>FRBES</td>\n",
       "    </tr>\n",
       "    <tr>\n",
       "      <th>2</th>\n",
       "      <td>RADE DE BREST</td>\n",
       "      <td>FRBES</td>\n",
       "    </tr>\n",
       "    <tr>\n",
       "      <th>114</th>\n",
       "      <td>SANTANDER</td>\n",
       "      <td>ESSDR</td>\n",
       "    </tr>\n",
       "    <tr>\n",
       "      <th>147</th>\n",
       "      <td>ROTTERDAM</td>\n",
       "      <td>NLRTM</td>\n",
       "    </tr>\n",
       "    <tr>\n",
       "      <th>254</th>\n",
       "      <td>BREST PILOT</td>\n",
       "      <td>FRBES</td>\n",
       "    </tr>\n",
       "    <tr>\n",
       "      <th>...</th>\n",
       "      <td>...</td>\n",
       "      <td>...</td>\n",
       "    </tr>\n",
       "    <tr>\n",
       "      <th>846317</th>\n",
       "      <td>MONTOIR VIA NOK</td>\n",
       "      <td>FRMTX</td>\n",
       "    </tr>\n",
       "    <tr>\n",
       "      <th>849088</th>\n",
       "      <td>DUKIRK, FRANCE</td>\n",
       "      <td>FRIRK</td>\n",
       "    </tr>\n",
       "    <tr>\n",
       "      <th>852646</th>\n",
       "      <td>FR DON &gt; FR LEH</td>\n",
       "      <td>FRLEH</td>\n",
       "    </tr>\n",
       "    <tr>\n",
       "      <th>857105</th>\n",
       "      <td>DUNKIRK/FRANCE</td>\n",
       "      <td>FRIRK</td>\n",
       "    </tr>\n",
       "    <tr>\n",
       "      <th>858938</th>\n",
       "      <td>ANTWERP WANDELAAR</td>\n",
       "      <td>BEANR</td>\n",
       "    </tr>\n",
       "  </tbody>\n",
       "</table>\n",
       "<p>248 rows × 2 columns</p>\n",
       "</div>"
      ],
      "text/plain": [
       "              destination   code\n",
       "0                   BREST  FRBES\n",
       "2           RADE DE BREST  FRBES\n",
       "114             SANTANDER  ESSDR\n",
       "147             ROTTERDAM  NLRTM\n",
       "254           BREST PILOT  FRBES\n",
       "...                   ...    ...\n",
       "846317    MONTOIR VIA NOK  FRMTX\n",
       "849088     DUKIRK, FRANCE  FRIRK\n",
       "852646    FR DON > FR LEH  FRLEH\n",
       "857105     DUNKIRK/FRANCE  FRIRK\n",
       "858938  ANTWERP WANDELAAR  BEANR\n",
       "\n",
       "[248 rows x 2 columns]"
      ]
     },
     "execution_count": 31,
     "metadata": {},
     "output_type": "execute_result"
    }
   ],
   "source": [
    "# remove lines with no code\n",
    "dataset_ten = df.drop(no_code_rows)\n",
    "dataset_ten"
   ]
  },
  {
   "cell_type": "code",
   "execution_count": 36,
   "metadata": {},
   "outputs": [
    {
     "data": {
      "text/html": [
       "<div>\n",
       "<style scoped>\n",
       "    .dataframe tbody tr th:only-of-type {\n",
       "        vertical-align: middle;\n",
       "    }\n",
       "\n",
       "    .dataframe tbody tr th {\n",
       "        vertical-align: top;\n",
       "    }\n",
       "\n",
       "    .dataframe thead th {\n",
       "        text-align: right;\n",
       "    }\n",
       "</style>\n",
       "<table border=\"1\" class=\"dataframe\">\n",
       "  <thead>\n",
       "    <tr style=\"text-align: right;\">\n",
       "      <th></th>\n",
       "      <th>destination</th>\n",
       "      <th>code</th>\n",
       "    </tr>\n",
       "  </thead>\n",
       "  <tbody>\n",
       "    <tr>\n",
       "      <th>5</th>\n",
       "      <td>SALVAGE TUG</td>\n",
       "      <td></td>\n",
       "    </tr>\n",
       "    <tr>\n",
       "      <th>10</th>\n",
       "      <td>WORKING AREA</td>\n",
       "      <td></td>\n",
       "    </tr>\n",
       "    <tr>\n",
       "      <th>13</th>\n",
       "      <td>LA TURBALLE</td>\n",
       "      <td></td>\n",
       "    </tr>\n",
       "    <tr>\n",
       "      <th>14</th>\n",
       "      <td>ST GILLE + DE UIE</td>\n",
       "      <td></td>\n",
       "    </tr>\n",
       "    <tr>\n",
       "      <th>50</th>\n",
       "      <td>DOUARNENEZ</td>\n",
       "      <td></td>\n",
       "    </tr>\n",
       "    <tr>\n",
       "      <th>...</th>\n",
       "      <td>...</td>\n",
       "      <td>...</td>\n",
       "    </tr>\n",
       "    <tr>\n",
       "      <th>863801</th>\n",
       "      <td>PT SET &gt;DE EME</td>\n",
       "      <td></td>\n",
       "    </tr>\n",
       "    <tr>\n",
       "      <th>872623</th>\n",
       "      <td>SWANSEA</td>\n",
       "      <td></td>\n",
       "    </tr>\n",
       "    <tr>\n",
       "      <th>878994</th>\n",
       "      <td>CABLE WORK NORTH SEA</td>\n",
       "      <td></td>\n",
       "    </tr>\n",
       "    <tr>\n",
       "      <th>881997</th>\n",
       "      <td>ST. PETER</td>\n",
       "      <td></td>\n",
       "    </tr>\n",
       "    <tr>\n",
       "      <th>882087</th>\n",
       "      <td>FR DRZ</td>\n",
       "      <td></td>\n",
       "    </tr>\n",
       "  </tbody>\n",
       "</table>\n",
       "<p>2086 rows × 2 columns</p>\n",
       "</div>"
      ],
      "text/plain": [
       "                 destination code\n",
       "5                SALVAGE TUG     \n",
       "10              WORKING AREA     \n",
       "13               LA TURBALLE     \n",
       "14         ST GILLE + DE UIE     \n",
       "50                DOUARNENEZ     \n",
       "...                      ...  ...\n",
       "863801        PT SET >DE EME     \n",
       "872623               SWANSEA     \n",
       "878994  CABLE WORK NORTH SEA     \n",
       "881997             ST. PETER     \n",
       "882087                FR DRZ     \n",
       "\n",
       "[2086 rows x 2 columns]"
      ]
     },
     "execution_count": 36,
     "metadata": {},
     "output_type": "execute_result"
    }
   ],
   "source": [
    "df.loc[no_code_rows]"
   ]
  },
  {
   "cell_type": "code",
   "execution_count": 58,
   "metadata": {},
   "outputs": [
    {
     "data": {
      "text/plain": [
       "[Text(0.5, 1.0, 'Distribution des classes'),\n",
       " Text(0.5, 0, 'World Port Index'),\n",
       " Text(0, 0.5, 'Datapoints')]"
      ]
     },
     "execution_count": 58,
     "metadata": {},
     "output_type": "execute_result"
    },
    {
     "data": {
      "image/png": "[encoded data removed]",
      "text/plain": [
       "<Figure size 432x288 with 1 Axes>"
      ]
     },
     "metadata": {
      "needs_background": "light"
     },
     "output_type": "display_data"
    }
   ],
   "source": [
    "label_distribution = dataset_ten[\"code\"].value_counts()\n",
    "sn.barplot(\n",
    "    x=label_distribution.index,\n",
    "    y=label_distribution.tolist()\n",
    ").set(title=\"Distribution des classes\", xlabel=\"World Port Index\",\n",
    "      ylabel=\"Datapoints\")"
   ]
  },
  {
   "cell_type": "code",
   "execution_count": 177,
   "metadata": {},
   "outputs": [
    {
     "data": {
      "text/plain": [
       "['ROTTERDAM',\n",
       " 'BITUNG>ROTTERDAM',\n",
       " 'NLRTM',\n",
       " 'NL RTM',\n",
       " 'ROTTERDAM<>DUBLIN',\n",
       " 'CO SMR>NL RTM',\n",
       " 'ROTTERDAM NL',\n",
       " 'NL-ROTTERDAM',\n",
       " 'ROTTERDAM FOR ORDER',\n",
       " 'ROTTERDAM NED.',\n",
       " 'ROTTERDAM FOR ORDERS',\n",
       " 'MAPTM>>NLRTM',\n",
       " 'HR RJK > NL RTM',\n",
       " 'ROTTERDAM NL RTM',\n",
       " 'ESVLC>NLRTM',\n",
       " 'ESBIO > NLRTM',\n",
       " 'ROTTERDAM,NETHERLAND',\n",
       " 'ROTTERDAM FO',\n",
       " 'BR TUB>NL RTM',\n",
       " 'COCTG-NLRTM',\n",
       " 'ROTTERDAM NETHERLAND',\n",
       " 'NLRTM>EGSUZ',\n",
       " 'ROTTERDAM EMO',\n",
       " 'MAPTM>NLRTM',\n",
       " 'PTLEI & NLRTM',\n",
       " 'ROTTERDAM-NETHERLAND',\n",
       " 'ROTTERDAMRYANBU',\n",
       " 'IT AUG>NL RTM',\n",
       " 'DZ MOS>NL RTM',\n",
       " 'ESLAP > NLRTM',\n",
       " 'MAPTM-NLRTM',\n",
       " 'NLRTM_FRBAY',\n",
       " 'FRBAY>NLRTM',\n",
       " 'NL RTM>CA HAL',\n",
       " 'ROTTERDOM -ETA UTC-',\n",
       " 'FR BAY>NL RTM',\n",
       " 'ES BCN> NL RTM',\n",
       " 'NLRTM>CA PCA',\n",
       " 'ROTTERDAM-NL',\n",
       " 'COCTG - NLRTM',\n",
       " 'ROTTERDAM / NLRTM',\n",
       " 'ROTTERDAM  F.O.',\n",
       " '\"MZ MPM>NL RTM\"',\n",
       " 'NL RTM>FR LAV',\n",
       " 'NL RTM > FR NTE',\n",
       " 'UANIK>NLRTM',\n",
       " 'ROTTERDAM, NL',\n",
       " 'ROTTERAM',\n",
       " 'FR NTE > NL RTM',\n",
       " 'NL RTM>FR NTE',\n",
       " 'FR LPE>NL RTM',\n",
       " 'NL RTM TO US PME',\n",
       " 'SGSIN -> NLRTM',\n",
       " '>NL RTM',\n",
       " 'NL RTM>FR SET',\n",
       " 'NL RTM/FR DON',\n",
       " 'NL RTM > BAL',\n",
       " 'NL RTM>US BAL',\n",
       " 'ROTTERDAM NLRTM',\n",
       " 'ROTTERCAM',\n",
       " 'EGSUC>>NLRTM',\n",
       " 'PT SIE>NL RTM']"
      ]
     },
     "execution_count": 177,
     "metadata": {},
     "output_type": "execute_result"
    }
   ],
   "source": [
    "dataset_ten[dataset_ten[\"code\"] == \"NLRTM\"][\"destination\"].tolist()"
   ]
  },
  {
   "cell_type": "code",
   "execution_count": 85,
   "metadata": {},
   "outputs": [],
   "source": [
    "def regexp_processing(destination):\n",
    "    \"\"\" Removes noise from destination\n",
    "    FR LPE>NL RTM should return NLRTM\n",
    "    NL RTM/FR DON should return FRDON\n",
    "    \n",
    "    Parameters:\n",
    "        destination (str):\n",
    "    \n",
    "    Returns:\n",
    "        str: Clean destination\n",
    "    \"\"\"\n",
    "    pattern = re.compile(\"[->/]+\")\n",
    "    matches = pattern.findall(destination)\n",
    "    \n",
    "    return destination.split(matches[-1])[-1].strip()"
   ]
  },
  {
   "cell_type": "code",
   "execution_count": 86,
   "metadata": {},
   "outputs": [
    {
     "data": {
      "text/plain": [
       "'NLRTM'"
      ]
     },
     "execution_count": 86,
     "metadata": {},
     "output_type": "execute_result"
    }
   ],
   "source": [
    "regexp_processing(\"SGSIN -> NLRTM\")"
   ]
  }
 ],
 "metadata": {
  "kernelspec": {
   "display_name": "pytorch",
   "language": "python",
   "name": "pytorch"
  },
  "language_info": {
   "codemirror_mode": {
    "name": "ipython",
    "version": 3
   },
   "file_extension": ".py",
   "mimetype": "text/x-python",
   "name": "python",
   "nbconvert_exporter": "python",
   "pygments_lexer": "ipython3",
   "version": "3.6.10"
  }
 },
 "nbformat": 4,
 "nbformat_minor": 2
}
